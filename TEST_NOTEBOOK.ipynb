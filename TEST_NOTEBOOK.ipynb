{
 "metadata": {
  "language_info": {
   "codemirror_mode": {
    "name": "ipython",
    "version": 3
   },
   "file_extension": ".py",
   "mimetype": "text/x-python",
   "name": "python",
   "nbconvert_exporter": "python",
   "pygments_lexer": "ipython3",
   "version": "3.8.6-final"
  },
  "orig_nbformat": 2,
  "kernelspec": {
   "name": "python386jvsc74a57bd0ef12830c393e1d640fb0d118ab975122ea7ddffb897e2243067e3fc43789771e",
   "display_name": "Python 3.8.6 64-bit ('3.8.6')"
  },
  "metadata": {
   "interpreter": {
    "hash": "ef12830c393e1d640fb0d118ab975122ea7ddffb897e2243067e3fc43789771e"
   }
  }
 },
 "nbformat": 4,
 "nbformat_minor": 2,
 "cells": [
  {
   "cell_type": "code",
   "execution_count": 1,
   "metadata": {},
   "outputs": [],
   "source": [
    "from master_problem import Master_problem\n",
    "from subproblem import Subproblem\n",
    "from Versions.mp_2optimality import MP_2opt\n",
    "from Versions.mp_branch_and_cut import MP_BBC\n",
    "from Versions.mp_parallel_subproblems import MP_parallelSPs\n",
    "from full_problem import Full_problem\n",
    "import gurobipy as gp\n",
    "from gurobipy import GRB\n",
    "import numpy as np\n",
    "from itertools import product\n",
    "import pandas as pd\n",
    "import ray"
   ]
  },
  {
   "cell_type": "code",
   "execution_count": 2,
   "metadata": {},
   "outputs": [
    {
     "output_type": "stream",
     "name": "stdout",
     "text": [
      "Using license file /Users/haukbjornland/gurobi.lic\n",
      "Academic license - for non-commercial use only\n",
      "Changed value of parameter LazyConstraints to 1\n",
      "   Prev: 0  Min: 0  Max: 1  Default: 0\n",
      ">>>Time spent solving MP: 0.002\n",
      ">>Time spent solving SP: 0.84\n",
      "> Iteration 1. UB: 1457 | LB: 1013 | Gap: 43.8 %\n",
      ">>>Time spent solving MP: 0.068\n",
      ">>Time spent solving SP: 0.397\n",
      "> Iteration 2. UB: 1422 | LB: 1180 | Gap: 20.52 %\n",
      ">>>Time spent solving MP: 0.014\n",
      ">>Time spent solving SP: 0.626\n",
      "> Iteration 3. UB: 1422 | LB: 1233 | Gap: 15.36 %\n",
      ">>>Time spent solving MP: 0.023\n",
      ">>Time spent solving SP: 0.283\n",
      "> Iteration 4. UB: 1422 | LB: 1280 | Gap: 11.08 %\n",
      ">>>Time spent solving MP: 0.059\n",
      ">>Time spent solving SP: 0.229\n",
      "> Iteration 5. UB: 1422 | LB: 1309 | Gap: 8.66 %\n",
      ">>>Time spent solving MP: 0.121\n",
      ">>Time spent solving SP: 0.27\n",
      "> Iteration 6. UB: 1350 | LB: 1316 | Gap: 2.6 %\n",
      ">>>Time spent solving MP: 0.1\n",
      ">>Time spent solving SP: 0.256\n",
      "> Iteration 7. UB: 1350 | LB: 1319 | Gap: 2.39 %\n",
      ">>>Time spent solving MP: 0.108\n",
      ">>Time spent solving SP: 0.249\n",
      "> Iteration 8. UB: 1350 | LB: 1323 | Gap: 2.05 %\n",
      ">>>Time spent solving MP: 0.12\n",
      ">>Time spent solving SP: 0.174\n",
      "> Iteration 9. UB: 1350 | LB: 1327 | Gap: 1.76 %\n",
      ">>>Time spent solving MP: 0.216\n",
      ">>Time spent solving SP: 0.128\n",
      "> Iteration 10. UB: 1322 | LB: 1333 | Gap: -0.78 %\n",
      "**OPTIMAL SOLUTION FOUND: 1322989579.3599997**\n"
     ]
    }
   ],
   "source": [
    "mp = MP_2opt(INSTANCE='Small')\n",
    "mp.solve()"
   ]
  },
  {
   "cell_type": "code",
   "execution_count": 3,
   "metadata": {},
   "outputs": [
    {
     "output_type": "stream",
     "name": "stdout",
     "text": [
      "Changed value of parameter LazyConstraints to 1\n",
      "   Prev: 0  Min: 0  Max: 1  Default: 0\n",
      "2021-04-25 16:48:16,615\tINFO services.py:1172 -- View the Ray dashboard at \u001b[1m\u001b[32mhttp://127.0.0.1:8265\u001b[39m\u001b[22m\n",
      "\u001b[2m\u001b[36m(pid=72673)\u001b[0m Using license file /Users/haukbjornland/gurobi.lic\n",
      "\u001b[2m\u001b[36m(pid=72673)\u001b[0m Academic license - for non-commercial use only\n",
      "\u001b[2m\u001b[36m(pid=72676)\u001b[0m Using license file /Users/haukbjornland/gurobi.lic\n",
      "\u001b[2m\u001b[36m(pid=72676)\u001b[0m Academic license - for non-commercial use only\n",
      "\u001b[2m\u001b[36m(pid=72670)\u001b[0m Using license file /Users/haukbjornland/gurobi.lic\n",
      "\u001b[2m\u001b[36m(pid=72670)\u001b[0m Academic license - for non-commercial use only\n",
      "\u001b[2m\u001b[36m(pid=72669)\u001b[0m Using license file /Users/haukbjornland/gurobi.lic\n",
      "\u001b[2m\u001b[36m(pid=72669)\u001b[0m Academic license - for non-commercial use only\n",
      "\u001b[2m\u001b[36m(pid=72671)\u001b[0m Using license file /Users/haukbjornland/gurobi.lic\n",
      "\u001b[2m\u001b[36m(pid=72671)\u001b[0m Academic license - for non-commercial use only\n",
      "\u001b[2m\u001b[36m(pid=72677)\u001b[0m Using license file /Users/haukbjornland/gurobi.lic\n",
      "\u001b[2m\u001b[36m(pid=72677)\u001b[0m Academic license - for non-commercial use only\n",
      "\u001b[2m\u001b[36m(pid=72678)\u001b[0m Using license file /Users/haukbjornland/gurobi.lic\n",
      "\u001b[2m\u001b[36m(pid=72678)\u001b[0m Academic license - for non-commercial use only\n",
      "\u001b[2m\u001b[36m(pid=72674)\u001b[0m Using license file /Users/haukbjornland/gurobi.lic\n",
      "\u001b[2m\u001b[36m(pid=72674)\u001b[0m Academic license - for non-commercial use only\n",
      "\u001b[2m\u001b[36m(pid=72675)\u001b[0m Using license file /Users/haukbjornland/gurobi.lic\n",
      "\u001b[2m\u001b[36m(pid=72675)\u001b[0m Academic license - for non-commercial use only\n",
      "\u001b[2m\u001b[36m(pid=72672)\u001b[0m Using license file /Users/haukbjornland/gurobi.lic\n",
      "\u001b[2m\u001b[36m(pid=72672)\u001b[0m Academic license - for non-commercial use only\n",
      "\u001b[2m\u001b[36m(pid=72667)\u001b[0m Using license file /Users/haukbjornland/gurobi.lic\n",
      "\u001b[2m\u001b[36m(pid=72667)\u001b[0m Academic license - for non-commercial use only\n",
      "\u001b[2m\u001b[36m(pid=72668)\u001b[0m Using license file /Users/haukbjornland/gurobi.lic\n",
      "\u001b[2m\u001b[36m(pid=72668)\u001b[0m Academic license - for non-commercial use only\n",
      "\u001b[2m\u001b[36m(pid=72691)\u001b[0m Using license file /Users/haukbjornland/gurobi.lic\n",
      "\u001b[2m\u001b[36m(pid=72691)\u001b[0m Academic license - for non-commercial use only\n",
      ">>>Time spent solving MP: 0.002\n",
      ">>Time spent solving SP: 0.343\n",
      "> Iteration 1. UB: 1457 | LB: 1013 | Gap: 43.8 %\n",
      ">>>Time spent solving MP: 0.089\n",
      ">>Time spent solving SP: 0.218\n",
      "> Iteration 2. UB: 1422 | LB: 1180 | Gap: 20.52 %\n",
      ">>>Time spent solving MP: 0.017\n",
      ">>Time spent solving SP: 0.351\n",
      "> Iteration 3. UB: 1422 | LB: 1233 | Gap: 15.36 %\n",
      ">>>Time spent solving MP: 0.033\n",
      ">>Time spent solving SP: 0.16\n",
      "> Iteration 4. UB: 1422 | LB: 1280 | Gap: 11.08 %\n",
      ">>>Time spent solving MP: 0.061\n",
      ">>Time spent solving SP: 0.131\n",
      "> Iteration 5. UB: 1422 | LB: 1309 | Gap: 8.66 %\n",
      ">>>Time spent solving MP: 0.126\n",
      ">>Time spent solving SP: 0.12\n",
      "> Iteration 6. UB: 1350 | LB: 1316 | Gap: 2.6 %\n",
      ">>>Time spent solving MP: 0.1\n",
      ">>Time spent solving SP: 0.123\n",
      "> Iteration 7. UB: 1350 | LB: 1319 | Gap: 2.39 %\n",
      ">>>Time spent solving MP: 0.115\n",
      ">>Time spent solving SP: 0.144\n",
      "> Iteration 8. UB: 1350 | LB: 1323 | Gap: 2.05 %\n",
      ">>>Time spent solving MP: 0.14\n",
      ">>Time spent solving SP: 0.101\n",
      "> Iteration 9. UB: 1350 | LB: 1327 | Gap: 1.76 %\n",
      ">>>Time spent solving MP: 0.245\n",
      ">>Time spent solving SP: 0.079\n",
      "> Iteration 10. UB: 1322 | LB: 1333 | Gap: -0.78 %\n",
      "**OPTIMAL SOLUTION FOUND: 1322989579.3599997**\n"
     ]
    }
   ],
   "source": [
    "mp_ps = MP_parallelSPs(INSTANCE='Small')\n",
    "mp_ps.solve()"
   ]
  },
  {
   "cell_type": "code",
   "execution_count": null,
   "metadata": {},
   "outputs": [],
   "source": []
  }
 ]
}