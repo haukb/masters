{
 "metadata": {
  "language_info": {
   "codemirror_mode": {
    "name": "ipython",
    "version": 3
   },
   "file_extension": ".py",
   "mimetype": "text/x-python",
   "name": "python",
   "nbconvert_exporter": "python",
   "pygments_lexer": "ipython3",
   "version": "3.8.6"
  },
  "orig_nbformat": 2,
  "kernelspec": {
   "name": "python3",
   "display_name": "Python 3.8.6 64-bit ('3.8.6': pyenv)",
   "metadata": {
    "interpreter": {
     "hash": "ef12830c393e1d640fb0d118ab975122ea7ddffb897e2243067e3fc43789771e"
    }
   }
  }
 },
 "nbformat": 4,
 "nbformat_minor": 2,
 "cells": [
  {
   "cell_type": "code",
   "execution_count": 1,
   "metadata": {},
   "outputs": [],
   "source": [
    "from master_problem import Master_problem\n",
    "from full_problem import Full_problem\n",
    "import gurobipy as gp\n",
    "from gurobipy import GRB\n",
    "import numpy as np\n",
    "from itertools import product"
   ]
  },
  {
   "cell_type": "code",
   "execution_count": 2,
   "metadata": {
    "tags": []
   },
   "outputs": [
    {
     "output_type": "stream",
     "name": "stdout",
     "text": [
      "Using license file /Users/haukbjornland/gurobi.lic\n",
      "Academic license - for non-commercial use only\n",
      "Changed value of parameter LazyConstraints to 1\n",
      "   Prev: 0  Min: 0  Max: 1  Default: 0\n",
      ">>> Iteration 1. UB: 10000000000000000202188791271559469885760963232143577411377768562080040049981643093586978275328 | LB: -10000000000000000202188791271559469885760963232143577411377768562080040049981643093586978275328 | Gap: -200.0 %\n",
      ">>> Iteration 2. UB: 64917 | LB: 15426 | Gap: 320.823242193103 %\n",
      ">>> Iteration 3. UB: 60128 | LB: 15426 | Gap: 289.7769124181868 %\n",
      ">>> Iteration 4. UB: 52681 | LB: 20475 | Gap: 157.2907462939191 %\n",
      ">>> Iteration 5. UB: 32379 | LB: 20475 | Gap: 58.13820810373218 %\n",
      ">>> Iteration 6. UB: 30269 | LB: 20475 | Gap: 47.83267465618855 %\n",
      ">>> Iteration 7. UB: 31051 | LB: 20475 | Gap: 47.83267465618855 %\n",
      ">>> Iteration 8. UB: 30745 | LB: 20475 | Gap: 47.83267465618855 %\n",
      ">>> Iteration 9. UB: 30474 | LB: 20475 | Gap: 47.83267465618855 %\n",
      ">>> Iteration 10. UB: 32376 | LB: 20475 | Gap: 47.83267465618855 %\n",
      ">>> Iteration 11. UB: 32376 | LB: 20475 | Gap: 47.83267465618855 %\n",
      ">>> Iteration 12. UB: 30286 | LB: 20475 | Gap: 47.83267465618855 %\n",
      ">>> Iteration 13. UB: 30286 | LB: 20475 | Gap: 47.83267465618855 %\n",
      ">>> Iteration 14. UB: 31691 | LB: 20475 | Gap: 47.83267465618855 %\n",
      ">>> Iteration 15. UB: 30553 | LB: 20475 | Gap: 47.83267465618855 %\n",
      ">>> Iteration 16. UB: 30251 | LB: 20475 | Gap: 47.7435927654692 %\n",
      ">>> Iteration 17. UB: 30229 | LB: 20475 | Gap: 47.63940823413952 %\n",
      ">>> Iteration 18. UB: 30219 | LB: 20475 | Gap: 47.59002358664088 %\n",
      ">>> Iteration 19. UB: 30214 | LB: 20475 | Gap: 47.56548606308255 %\n",
      ">>> Iteration 20. UB: 31498 | LB: 20475 | Gap: 47.56548606308255 %\n",
      ">>> Iteration 21. UB: 30150 | LB: 20475 | Gap: 47.24976778045818 %\n",
      ">>> Iteration 22. UB: 30248 | LB: 20475 | Gap: 47.24976778045818 %\n",
      ">>> Iteration 23. UB: 30175 | LB: 20475 | Gap: 47.24976778045818 %\n",
      ">>> Iteration 24. UB: 30261 | LB: 20475 | Gap: 47.24976778045818 %\n"
     ]
    }
   ],
   "source": [
    "mp = Master_problem('Full_instance')\n",
    "mp.solve()"
   ]
  },
  {
   "cell_type": "code",
   "execution_count": 7,
   "metadata": {},
   "outputs": [
    {
     "output_type": "execute_result",
     "data": {
      "text/plain": [
       "False"
      ]
     },
     "metadata": {},
     "execution_count": 7
    }
   ],
   "source": [
    "mp.hot_start"
   ]
  },
  {
   "cell_type": "code",
   "execution_count": 8,
   "metadata": {},
   "outputs": [],
   "source": [
    "mp.solve()"
   ]
  },
  {
   "cell_type": "code",
   "execution_count": 9,
   "metadata": {},
   "outputs": [
    {
     "output_type": "execute_result",
     "data": {
      "text/plain": [
       "2"
      ]
     },
     "metadata": {},
     "execution_count": 9
    }
   ],
   "source": [
    "mp.m.status"
   ]
  },
  {
   "cell_type": "code",
   "execution_count": 4,
   "metadata": {},
   "outputs": [
    {
     "output_type": "execute_result",
     "data": {
      "text/plain": [
       "-0.0"
      ]
     },
     "metadata": {},
     "execution_count": 4
    }
   ],
   "source": [
    "mp.data.vessels[(0,9)][-1]"
   ]
  },
  {
   "cell_type": "code",
   "execution_count": null,
   "metadata": {},
   "outputs": [],
   "source": []
  },
  {
   "cell_type": "code",
   "execution_count": null,
   "metadata": {},
   "outputs": [],
   "source": []
  },
  {
   "cell_type": "code",
   "execution_count": 5,
   "metadata": {},
   "outputs": [
    {
     "output_type": "execute_result",
     "data": {
      "text/plain": [
       "2922.2547585946922"
      ]
     },
     "metadata": {},
     "execution_count": 5
    }
   ],
   "source": [
    "(mp.m.objVal-mp.data.phis[-1])/1e6"
   ]
  },
  {
   "cell_type": "code",
   "execution_count": 6,
   "metadata": {},
   "outputs": [
    {
     "output_type": "execute_result",
     "data": {
      "text/plain": [
       "<master_problem.Master_problem at 0x11d67ee80>"
      ]
     },
     "metadata": {},
     "execution_count": 6
    }
   ],
   "source": [
    "mp"
   ]
  }
 ]
}