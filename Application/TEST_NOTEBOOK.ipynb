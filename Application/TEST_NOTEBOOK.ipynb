{
 "metadata": {
  "language_info": {
   "codemirror_mode": {
    "name": "ipython",
    "version": 3
   },
   "file_extension": ".py",
   "mimetype": "text/x-python",
   "name": "python",
   "nbconvert_exporter": "python",
   "pygments_lexer": "ipython3",
   "version": "3.8.6-final"
  },
  "orig_nbformat": 2,
  "kernelspec": {
   "name": "python386jvsc74a57bd0ef12830c393e1d640fb0d118ab975122ea7ddffb897e2243067e3fc43789771e",
   "display_name": "Python 3.8.6 64-bit ('3.8.6')"
  },
  "metadata": {
   "interpreter": {
    "hash": "ef12830c393e1d640fb0d118ab975122ea7ddffb897e2243067e3fc43789771e"
   }
  }
 },
 "nbformat": 4,
 "nbformat_minor": 2,
 "cells": [
  {
   "cell_type": "code",
   "execution_count": 80,
   "metadata": {},
   "outputs": [],
   "source": [
    "from master_problem import Master_problem\n",
    "from subproblem import Subproblem\n",
    "from Versions.mp_2optimality import MP_2opt\n",
    "from Versions.mp_branch_and_cut import MP_BBC\n",
    "from Versions.mp_parallel_subproblems import MP_parallelSPs\n",
    "from full_problem import Full_problem\n",
    "import gurobipy as gp\n",
    "from gurobipy import GRB\n",
    "import numpy as np\n",
    "from itertools import product\n",
    "import pandas as pd\n",
    "import ray\n",
    "from time import time"
   ]
  },
  {
   "cell_type": "code",
   "execution_count": null,
   "metadata": {
    "tags": []
   },
   "outputs": [],
   "source": [
    "t0 = time()\n",
    "mp_parallelSPs = MP_parallelSPs(INSTANCE='Full', NUM_VESSELS=1, MAX_PORT_VISITS=1, MAX_ITERS=45)\n",
    "mp_parallelSPs.solve()\n",
    "print(f'Time to solve WITH parallel SPs: {time()-t0}')\n",
    "t0 = time()\n",
    "mp_2opt = MP_2opt(INSTANCE='Full', NUM_VESSELS=1, MAX_PORT_VISITS=1, MAX_ITERS=45)\n",
    "mp_2opt.solve()\n",
    "print(f'Time to solve WITHOUT parallel SPs: {time()-t0}')"
   ]
  },
  {
   "cell_type": "code",
   "execution_count": 3,
   "metadata": {},
   "outputs": [
    {
     "output_type": "execute_result",
     "data": {
      "text/plain": [
       "      0                                                            \n",
       "     0    1    2    3    4    5    6    7    8    9    10   11   12\n",
       "0   2.0  1.0  1.0  1.0  1.0  1.0  1.0  1.0  1.0  1.0  1.0  1.0  1.0\n",
       "1   2.0  0.0  0.0  0.0  8.0  8.0  0.0  8.0  0.0  0.0  0.0  0.0  0.0\n",
       "2   2.0  0.0 -0.0 -0.0  8.0  8.0  0.0  8.0  0.0  0.0  0.0  0.0  0.0\n",
       "3   2.0  0.0 -0.0 -0.0  8.0  8.0  0.0  8.0  0.0  0.0  0.0  0.0  0.0\n",
       "4   2.0  0.0 -0.0 -0.0  8.0  8.0  0.0  8.0  0.0  0.0  0.0  0.0  0.0\n",
       "5   2.0  0.0  0.0  0.0  6.0  6.0  0.0  8.0  0.0  0.0  0.0  0.0  0.0\n",
       "6   3.0 -0.0 -0.0  0.0  1.0  2.0 -0.0  4.0 -0.0 -0.0 -0.0 -0.0 -0.0\n",
       "7   3.0 -0.0 -0.0  0.0  1.0  2.0 -0.0  4.0 -0.0 -0.0 -0.0 -0.0 -0.0\n",
       "8   3.0 -0.0 -0.0 -0.0  1.0  2.0 -0.0  4.0 -0.0 -0.0 -0.0 -0.0 -0.0\n",
       "9   2.0  1.0  0.0  0.0  2.0  0.0  0.0  1.0  3.0 -0.0  3.0  1.0 -0.0\n",
       "10  2.0  0.0  0.0  0.0  1.0  2.0  1.0  1.0  3.0  0.0  3.0  1.0  0.0\n",
       "11  2.0  0.0  0.0  1.0  1.0  2.0  1.0  1.0  3.0  0.0  0.0  2.0  0.0\n",
       "12  2.0  0.0  0.0  1.0  2.0  2.0  1.0  1.0  3.0  0.0 -0.0  2.0  0.0\n",
       "13  3.0  0.0  0.0  0.0  1.0  1.0  0.0  1.0  2.0  0.0  1.0  1.0 -0.0\n",
       "14  1.0  2.0  1.0  1.0  3.0  1.0  0.0  4.0  1.0  0.0  1.0  1.0  0.0\n",
       "15  1.0  2.0  1.0  1.0  3.0  1.0  0.0  4.0  1.0  0.0  1.0  1.0  0.0\n",
       "16  2.0  1.0  0.0  0.0  3.0  1.0  0.0  4.0  1.0  0.0  1.0  1.0  0.0\n",
       "17  2.0  1.0 -0.0  0.0  3.0  1.0 -0.0  4.0  1.0 -0.0  1.0  1.0 -0.0\n",
       "18  2.0  1.0  0.0  0.0  3.0  1.0  0.0  4.0  1.0  0.0  1.0  1.0  0.0\n",
       "19  2.0 -0.0 -0.0 -0.0  2.0  3.0  0.0  4.0  1.0 -0.0  2.0  1.0 -0.0\n",
       "20  2.0  1.0 -0.0 -0.0  2.0 -0.0 -0.0  2.0  2.0  1.0  2.0  2.0 -0.0\n",
       "21  2.0  1.0 -0.0 -0.0  2.0 -0.0 -0.0  2.0  2.0  1.0  2.0  2.0 -0.0\n",
       "22  2.0  1.0  1.0  0.0  2.0  0.0  0.0  1.0  1.0  0.0  2.0  1.0  1.0\n",
       "23  2.0  1.0  1.0 -0.0  2.0 -0.0 -0.0  1.0  1.0 -0.0  2.0  1.0  1.0\n",
       "24  2.0  1.0  1.0  0.0  2.0  0.0  0.0  1.0  1.0 -0.0  2.0  1.0  1.0\n",
       "25  2.0  1.0  1.0  0.0  2.0  0.0  0.0  1.0  1.0  0.0  2.0  1.0  1.0\n",
       "26  2.0  1.0  1.0  0.0  2.0  1.0  0.0  2.0  1.0  0.0  2.0  1.0  0.0\n",
       "27  2.0  1.0  1.0  0.0  2.0  1.0  0.0  2.0  1.0  0.0  2.0  1.0 -0.0\n",
       "28  2.0  1.0  1.0  0.0  2.0  1.0  0.0  2.0  1.0  0.0  2.0  1.0  0.0\n",
       "29  2.0  1.0  1.0  0.0  2.0  1.0  0.0  2.0  1.0  0.0  2.0  1.0  0.0\n",
       "30  2.0  1.0  1.0  0.0  2.0  1.0  0.0  1.0  1.0  0.0  2.0  1.0  0.0\n",
       "31  2.0  1.0  1.0  0.0  2.0  1.0  0.0  1.0  1.0  0.0  2.0  1.0 -0.0\n",
       "32  2.0  1.0  1.0 -0.0  2.0  1.0 -0.0  1.0  1.0 -0.0  2.0  1.0 -0.0\n",
       "33  2.0  1.0  1.0 -0.0  2.0  1.0  0.0  1.0  1.0  0.0  2.0  1.0  0.0\n",
       "34  2.0  1.0  1.0  0.0  2.0  1.0  0.0  1.0  1.0  0.0  2.0  1.0  0.0\n",
       "35  2.0  1.0  1.0  0.0  2.0  1.0  0.0  1.0  1.0  0.0  2.0  1.0  0.0\n",
       "36  2.0  1.0  1.0 -0.0  2.0  1.0  0.0  1.0  1.0  0.0  2.0  1.0  0.0\n",
       "37  2.0  1.0  1.0  0.0  2.0  1.0  0.0  1.0  1.0 -0.0  2.0  1.0  0.0\n",
       "38  2.0  1.0  1.0  0.0  2.0  1.0  0.0  1.0  1.0  0.0  2.0  1.0 -0.0\n",
       "39  2.0  1.0  1.0  0.0  2.0  1.0  0.0  1.0  1.0  0.0  2.0  1.0 -0.0\n",
       "40  2.0  1.0  1.0  0.0  2.0  1.0  0.0  1.0  1.0  0.0  2.0  1.0  0.0\n",
       "41  2.0  1.0  1.0  0.0  2.0  1.0  0.0  1.0  1.0  0.0  2.0  1.0 -0.0"
      ],
      "text/html": "<div>\n<style scoped>\n    .dataframe tbody tr th:only-of-type {\n        vertical-align: middle;\n    }\n\n    .dataframe tbody tr th {\n        vertical-align: top;\n    }\n\n    .dataframe thead tr th {\n        text-align: left;\n    }\n</style>\n<table border=\"1\" class=\"dataframe\">\n  <thead>\n    <tr>\n      <th></th>\n      <th colspan=\"13\" halign=\"left\">0</th>\n    </tr>\n    <tr>\n      <th></th>\n      <th>0</th>\n      <th>1</th>\n      <th>2</th>\n      <th>3</th>\n      <th>4</th>\n      <th>5</th>\n      <th>6</th>\n      <th>7</th>\n      <th>8</th>\n      <th>9</th>\n      <th>10</th>\n      <th>11</th>\n      <th>12</th>\n    </tr>\n  </thead>\n  <tbody>\n    <tr>\n      <th>0</th>\n      <td>2.0</td>\n      <td>1.0</td>\n      <td>1.0</td>\n      <td>1.0</td>\n      <td>1.0</td>\n      <td>1.0</td>\n      <td>1.0</td>\n      <td>1.0</td>\n      <td>1.0</td>\n      <td>1.0</td>\n      <td>1.0</td>\n      <td>1.0</td>\n      <td>1.0</td>\n    </tr>\n    <tr>\n      <th>1</th>\n      <td>2.0</td>\n      <td>0.0</td>\n      <td>0.0</td>\n      <td>0.0</td>\n      <td>8.0</td>\n      <td>8.0</td>\n      <td>0.0</td>\n      <td>8.0</td>\n      <td>0.0</td>\n      <td>0.0</td>\n      <td>0.0</td>\n      <td>0.0</td>\n      <td>0.0</td>\n    </tr>\n    <tr>\n      <th>2</th>\n      <td>2.0</td>\n      <td>0.0</td>\n      <td>-0.0</td>\n      <td>-0.0</td>\n      <td>8.0</td>\n      <td>8.0</td>\n      <td>0.0</td>\n      <td>8.0</td>\n      <td>0.0</td>\n      <td>0.0</td>\n      <td>0.0</td>\n      <td>0.0</td>\n      <td>0.0</td>\n    </tr>\n    <tr>\n      <th>3</th>\n      <td>2.0</td>\n      <td>0.0</td>\n      <td>-0.0</td>\n      <td>-0.0</td>\n      <td>8.0</td>\n      <td>8.0</td>\n      <td>0.0</td>\n      <td>8.0</td>\n      <td>0.0</td>\n      <td>0.0</td>\n      <td>0.0</td>\n      <td>0.0</td>\n      <td>0.0</td>\n    </tr>\n    <tr>\n      <th>4</th>\n      <td>2.0</td>\n      <td>0.0</td>\n      <td>-0.0</td>\n      <td>-0.0</td>\n      <td>8.0</td>\n      <td>8.0</td>\n      <td>0.0</td>\n      <td>8.0</td>\n      <td>0.0</td>\n      <td>0.0</td>\n      <td>0.0</td>\n      <td>0.0</td>\n      <td>0.0</td>\n    </tr>\n    <tr>\n      <th>5</th>\n      <td>2.0</td>\n      <td>0.0</td>\n      <td>0.0</td>\n      <td>0.0</td>\n      <td>6.0</td>\n      <td>6.0</td>\n      <td>0.0</td>\n      <td>8.0</td>\n      <td>0.0</td>\n      <td>0.0</td>\n      <td>0.0</td>\n      <td>0.0</td>\n      <td>0.0</td>\n    </tr>\n    <tr>\n      <th>6</th>\n      <td>3.0</td>\n      <td>-0.0</td>\n      <td>-0.0</td>\n      <td>0.0</td>\n      <td>1.0</td>\n      <td>2.0</td>\n      <td>-0.0</td>\n      <td>4.0</td>\n      <td>-0.0</td>\n      <td>-0.0</td>\n      <td>-0.0</td>\n      <td>-0.0</td>\n      <td>-0.0</td>\n    </tr>\n    <tr>\n      <th>7</th>\n      <td>3.0</td>\n      <td>-0.0</td>\n      <td>-0.0</td>\n      <td>0.0</td>\n      <td>1.0</td>\n      <td>2.0</td>\n      <td>-0.0</td>\n      <td>4.0</td>\n      <td>-0.0</td>\n      <td>-0.0</td>\n      <td>-0.0</td>\n      <td>-0.0</td>\n      <td>-0.0</td>\n    </tr>\n    <tr>\n      <th>8</th>\n      <td>3.0</td>\n      <td>-0.0</td>\n      <td>-0.0</td>\n      <td>-0.0</td>\n      <td>1.0</td>\n      <td>2.0</td>\n      <td>-0.0</td>\n      <td>4.0</td>\n      <td>-0.0</td>\n      <td>-0.0</td>\n      <td>-0.0</td>\n      <td>-0.0</td>\n      <td>-0.0</td>\n    </tr>\n    <tr>\n      <th>9</th>\n      <td>2.0</td>\n      <td>1.0</td>\n      <td>0.0</td>\n      <td>0.0</td>\n      <td>2.0</td>\n      <td>0.0</td>\n      <td>0.0</td>\n      <td>1.0</td>\n      <td>3.0</td>\n      <td>-0.0</td>\n      <td>3.0</td>\n      <td>1.0</td>\n      <td>-0.0</td>\n    </tr>\n    <tr>\n      <th>10</th>\n      <td>2.0</td>\n      <td>0.0</td>\n      <td>0.0</td>\n      <td>0.0</td>\n      <td>1.0</td>\n      <td>2.0</td>\n      <td>1.0</td>\n      <td>1.0</td>\n      <td>3.0</td>\n      <td>0.0</td>\n      <td>3.0</td>\n      <td>1.0</td>\n      <td>0.0</td>\n    </tr>\n    <tr>\n      <th>11</th>\n      <td>2.0</td>\n      <td>0.0</td>\n      <td>0.0</td>\n      <td>1.0</td>\n      <td>1.0</td>\n      <td>2.0</td>\n      <td>1.0</td>\n      <td>1.0</td>\n      <td>3.0</td>\n      <td>0.0</td>\n      <td>0.0</td>\n      <td>2.0</td>\n      <td>0.0</td>\n    </tr>\n    <tr>\n      <th>12</th>\n      <td>2.0</td>\n      <td>0.0</td>\n      <td>0.0</td>\n      <td>1.0</td>\n      <td>2.0</td>\n      <td>2.0</td>\n      <td>1.0</td>\n      <td>1.0</td>\n      <td>3.0</td>\n      <td>0.0</td>\n      <td>-0.0</td>\n      <td>2.0</td>\n      <td>0.0</td>\n    </tr>\n    <tr>\n      <th>13</th>\n      <td>3.0</td>\n      <td>0.0</td>\n      <td>0.0</td>\n      <td>0.0</td>\n      <td>1.0</td>\n      <td>1.0</td>\n      <td>0.0</td>\n      <td>1.0</td>\n      <td>2.0</td>\n      <td>0.0</td>\n      <td>1.0</td>\n      <td>1.0</td>\n      <td>-0.0</td>\n    </tr>\n    <tr>\n      <th>14</th>\n      <td>1.0</td>\n      <td>2.0</td>\n      <td>1.0</td>\n      <td>1.0</td>\n      <td>3.0</td>\n      <td>1.0</td>\n      <td>0.0</td>\n      <td>4.0</td>\n      <td>1.0</td>\n      <td>0.0</td>\n      <td>1.0</td>\n      <td>1.0</td>\n      <td>0.0</td>\n    </tr>\n    <tr>\n      <th>15</th>\n      <td>1.0</td>\n      <td>2.0</td>\n      <td>1.0</td>\n      <td>1.0</td>\n      <td>3.0</td>\n      <td>1.0</td>\n      <td>0.0</td>\n      <td>4.0</td>\n      <td>1.0</td>\n      <td>0.0</td>\n      <td>1.0</td>\n      <td>1.0</td>\n      <td>0.0</td>\n    </tr>\n    <tr>\n      <th>16</th>\n      <td>2.0</td>\n      <td>1.0</td>\n      <td>0.0</td>\n      <td>0.0</td>\n      <td>3.0</td>\n      <td>1.0</td>\n      <td>0.0</td>\n      <td>4.0</td>\n      <td>1.0</td>\n      <td>0.0</td>\n      <td>1.0</td>\n      <td>1.0</td>\n      <td>0.0</td>\n    </tr>\n    <tr>\n      <th>17</th>\n      <td>2.0</td>\n      <td>1.0</td>\n      <td>-0.0</td>\n      <td>0.0</td>\n      <td>3.0</td>\n      <td>1.0</td>\n      <td>-0.0</td>\n      <td>4.0</td>\n      <td>1.0</td>\n      <td>-0.0</td>\n      <td>1.0</td>\n      <td>1.0</td>\n      <td>-0.0</td>\n    </tr>\n    <tr>\n      <th>18</th>\n      <td>2.0</td>\n      <td>1.0</td>\n      <td>0.0</td>\n      <td>0.0</td>\n      <td>3.0</td>\n      <td>1.0</td>\n      <td>0.0</td>\n      <td>4.0</td>\n      <td>1.0</td>\n      <td>0.0</td>\n      <td>1.0</td>\n      <td>1.0</td>\n      <td>0.0</td>\n    </tr>\n    <tr>\n      <th>19</th>\n      <td>2.0</td>\n      <td>-0.0</td>\n      <td>-0.0</td>\n      <td>-0.0</td>\n      <td>2.0</td>\n      <td>3.0</td>\n      <td>0.0</td>\n      <td>4.0</td>\n      <td>1.0</td>\n      <td>-0.0</td>\n      <td>2.0</td>\n      <td>1.0</td>\n      <td>-0.0</td>\n    </tr>\n    <tr>\n      <th>20</th>\n      <td>2.0</td>\n      <td>1.0</td>\n      <td>-0.0</td>\n      <td>-0.0</td>\n      <td>2.0</td>\n      <td>-0.0</td>\n      <td>-0.0</td>\n      <td>2.0</td>\n      <td>2.0</td>\n      <td>1.0</td>\n      <td>2.0</td>\n      <td>2.0</td>\n      <td>-0.0</td>\n    </tr>\n    <tr>\n      <th>21</th>\n      <td>2.0</td>\n      <td>1.0</td>\n      <td>-0.0</td>\n      <td>-0.0</td>\n      <td>2.0</td>\n      <td>-0.0</td>\n      <td>-0.0</td>\n      <td>2.0</td>\n      <td>2.0</td>\n      <td>1.0</td>\n      <td>2.0</td>\n      <td>2.0</td>\n      <td>-0.0</td>\n    </tr>\n    <tr>\n      <th>22</th>\n      <td>2.0</td>\n      <td>1.0</td>\n      <td>1.0</td>\n      <td>0.0</td>\n      <td>2.0</td>\n      <td>0.0</td>\n      <td>0.0</td>\n      <td>1.0</td>\n      <td>1.0</td>\n      <td>0.0</td>\n      <td>2.0</td>\n      <td>1.0</td>\n      <td>1.0</td>\n    </tr>\n    <tr>\n      <th>23</th>\n      <td>2.0</td>\n      <td>1.0</td>\n      <td>1.0</td>\n      <td>-0.0</td>\n      <td>2.0</td>\n      <td>-0.0</td>\n      <td>-0.0</td>\n      <td>1.0</td>\n      <td>1.0</td>\n      <td>-0.0</td>\n      <td>2.0</td>\n      <td>1.0</td>\n      <td>1.0</td>\n    </tr>\n    <tr>\n      <th>24</th>\n      <td>2.0</td>\n      <td>1.0</td>\n      <td>1.0</td>\n      <td>0.0</td>\n      <td>2.0</td>\n      <td>0.0</td>\n      <td>0.0</td>\n      <td>1.0</td>\n      <td>1.0</td>\n      <td>-0.0</td>\n      <td>2.0</td>\n      <td>1.0</td>\n      <td>1.0</td>\n    </tr>\n    <tr>\n      <th>25</th>\n      <td>2.0</td>\n      <td>1.0</td>\n      <td>1.0</td>\n      <td>0.0</td>\n      <td>2.0</td>\n      <td>0.0</td>\n      <td>0.0</td>\n      <td>1.0</td>\n      <td>1.0</td>\n      <td>0.0</td>\n      <td>2.0</td>\n      <td>1.0</td>\n      <td>1.0</td>\n    </tr>\n    <tr>\n      <th>26</th>\n      <td>2.0</td>\n      <td>1.0</td>\n      <td>1.0</td>\n      <td>0.0</td>\n      <td>2.0</td>\n      <td>1.0</td>\n      <td>0.0</td>\n      <td>2.0</td>\n      <td>1.0</td>\n      <td>0.0</td>\n      <td>2.0</td>\n      <td>1.0</td>\n      <td>0.0</td>\n    </tr>\n    <tr>\n      <th>27</th>\n      <td>2.0</td>\n      <td>1.0</td>\n      <td>1.0</td>\n      <td>0.0</td>\n      <td>2.0</td>\n      <td>1.0</td>\n      <td>0.0</td>\n      <td>2.0</td>\n      <td>1.0</td>\n      <td>0.0</td>\n      <td>2.0</td>\n      <td>1.0</td>\n      <td>-0.0</td>\n    </tr>\n    <tr>\n      <th>28</th>\n      <td>2.0</td>\n      <td>1.0</td>\n      <td>1.0</td>\n      <td>0.0</td>\n      <td>2.0</td>\n      <td>1.0</td>\n      <td>0.0</td>\n      <td>2.0</td>\n      <td>1.0</td>\n      <td>0.0</td>\n      <td>2.0</td>\n      <td>1.0</td>\n      <td>0.0</td>\n    </tr>\n    <tr>\n      <th>29</th>\n      <td>2.0</td>\n      <td>1.0</td>\n      <td>1.0</td>\n      <td>0.0</td>\n      <td>2.0</td>\n      <td>1.0</td>\n      <td>0.0</td>\n      <td>2.0</td>\n      <td>1.0</td>\n      <td>0.0</td>\n      <td>2.0</td>\n      <td>1.0</td>\n      <td>0.0</td>\n    </tr>\n    <tr>\n      <th>30</th>\n      <td>2.0</td>\n      <td>1.0</td>\n      <td>1.0</td>\n      <td>0.0</td>\n      <td>2.0</td>\n      <td>1.0</td>\n      <td>0.0</td>\n      <td>1.0</td>\n      <td>1.0</td>\n      <td>0.0</td>\n      <td>2.0</td>\n      <td>1.0</td>\n      <td>0.0</td>\n    </tr>\n    <tr>\n      <th>31</th>\n      <td>2.0</td>\n      <td>1.0</td>\n      <td>1.0</td>\n      <td>0.0</td>\n      <td>2.0</td>\n      <td>1.0</td>\n      <td>0.0</td>\n      <td>1.0</td>\n      <td>1.0</td>\n      <td>0.0</td>\n      <td>2.0</td>\n      <td>1.0</td>\n      <td>-0.0</td>\n    </tr>\n    <tr>\n      <th>32</th>\n      <td>2.0</td>\n      <td>1.0</td>\n      <td>1.0</td>\n      <td>-0.0</td>\n      <td>2.0</td>\n      <td>1.0</td>\n      <td>-0.0</td>\n      <td>1.0</td>\n      <td>1.0</td>\n      <td>-0.0</td>\n      <td>2.0</td>\n      <td>1.0</td>\n      <td>-0.0</td>\n    </tr>\n    <tr>\n      <th>33</th>\n      <td>2.0</td>\n      <td>1.0</td>\n      <td>1.0</td>\n      <td>-0.0</td>\n      <td>2.0</td>\n      <td>1.0</td>\n      <td>0.0</td>\n      <td>1.0</td>\n      <td>1.0</td>\n      <td>0.0</td>\n      <td>2.0</td>\n      <td>1.0</td>\n      <td>0.0</td>\n    </tr>\n    <tr>\n      <th>34</th>\n      <td>2.0</td>\n      <td>1.0</td>\n      <td>1.0</td>\n      <td>0.0</td>\n      <td>2.0</td>\n      <td>1.0</td>\n      <td>0.0</td>\n      <td>1.0</td>\n      <td>1.0</td>\n      <td>0.0</td>\n      <td>2.0</td>\n      <td>1.0</td>\n      <td>0.0</td>\n    </tr>\n    <tr>\n      <th>35</th>\n      <td>2.0</td>\n      <td>1.0</td>\n      <td>1.0</td>\n      <td>0.0</td>\n      <td>2.0</td>\n      <td>1.0</td>\n      <td>0.0</td>\n      <td>1.0</td>\n      <td>1.0</td>\n      <td>0.0</td>\n      <td>2.0</td>\n      <td>1.0</td>\n      <td>0.0</td>\n    </tr>\n    <tr>\n      <th>36</th>\n      <td>2.0</td>\n      <td>1.0</td>\n      <td>1.0</td>\n      <td>-0.0</td>\n      <td>2.0</td>\n      <td>1.0</td>\n      <td>0.0</td>\n      <td>1.0</td>\n      <td>1.0</td>\n      <td>0.0</td>\n      <td>2.0</td>\n      <td>1.0</td>\n      <td>0.0</td>\n    </tr>\n    <tr>\n      <th>37</th>\n      <td>2.0</td>\n      <td>1.0</td>\n      <td>1.0</td>\n      <td>0.0</td>\n      <td>2.0</td>\n      <td>1.0</td>\n      <td>0.0</td>\n      <td>1.0</td>\n      <td>1.0</td>\n      <td>-0.0</td>\n      <td>2.0</td>\n      <td>1.0</td>\n      <td>0.0</td>\n    </tr>\n    <tr>\n      <th>38</th>\n      <td>2.0</td>\n      <td>1.0</td>\n      <td>1.0</td>\n      <td>0.0</td>\n      <td>2.0</td>\n      <td>1.0</td>\n      <td>0.0</td>\n      <td>1.0</td>\n      <td>1.0</td>\n      <td>0.0</td>\n      <td>2.0</td>\n      <td>1.0</td>\n      <td>-0.0</td>\n    </tr>\n    <tr>\n      <th>39</th>\n      <td>2.0</td>\n      <td>1.0</td>\n      <td>1.0</td>\n      <td>0.0</td>\n      <td>2.0</td>\n      <td>1.0</td>\n      <td>0.0</td>\n      <td>1.0</td>\n      <td>1.0</td>\n      <td>0.0</td>\n      <td>2.0</td>\n      <td>1.0</td>\n      <td>-0.0</td>\n    </tr>\n    <tr>\n      <th>40</th>\n      <td>2.0</td>\n      <td>1.0</td>\n      <td>1.0</td>\n      <td>0.0</td>\n      <td>2.0</td>\n      <td>1.0</td>\n      <td>0.0</td>\n      <td>1.0</td>\n      <td>1.0</td>\n      <td>0.0</td>\n      <td>2.0</td>\n      <td>1.0</td>\n      <td>0.0</td>\n    </tr>\n    <tr>\n      <th>41</th>\n      <td>2.0</td>\n      <td>1.0</td>\n      <td>1.0</td>\n      <td>0.0</td>\n      <td>2.0</td>\n      <td>1.0</td>\n      <td>0.0</td>\n      <td>1.0</td>\n      <td>1.0</td>\n      <td>0.0</td>\n      <td>2.0</td>\n      <td>1.0</td>\n      <td>-0.0</td>\n    </tr>\n  </tbody>\n</table>\n</div>"
     },
     "metadata": {},
     "execution_count": 3
    }
   ],
   "source": [
    "pd.DataFrame(data = mp_2opt.data.vessels)"
   ]
  },
  {
   "cell_type": "code",
   "execution_count": 8,
   "metadata": {},
   "outputs": [
    {
     "output_type": "execute_result",
     "data": {
      "text/plain": [
       "       0    1     2     3    4    5    6     7     8    9   10   11   12\n",
       "0    0.0  0.0   0.0   0.0  0.0  0.0  0.0   0.0   0.0  0.0  0.0  0.0  0.0\n",
       "1    0.0  0.0   0.0   0.0  0.0  0.0  0.0   0.0   0.0  0.0  0.0  0.0  0.0\n",
       "2    0.0  0.0   0.0   0.0  0.0  0.0  0.0   0.0   0.0  0.0  0.0  0.0  0.0\n",
       "3    0.0  0.0   0.0   0.0  0.0  0.0  0.0   0.0   0.0  0.0  0.0  0.0  0.0\n",
       "4    0.0  0.0   0.0   0.0  0.0  0.0  0.0   0.0   0.0  0.0  0.0  0.0  0.0\n",
       "5    0.0  0.0   0.0   0.0  0.0  0.0  0.0   0.0   0.0  0.0  0.0  0.0  0.0\n",
       "6    0.0  0.0   0.0   0.0  0.0  0.0  0.0   0.0   0.0  0.0  0.0  0.0  0.0\n",
       "7    0.0  0.0   0.0   0.0  0.0  0.0  0.0   0.0   0.0  0.0  0.0  0.0  0.0\n",
       "8    0.0  0.0   0.0   0.0  0.0  0.0  0.0   0.0   0.0  0.0  0.0  0.0  0.0\n",
       "9    0.0  0.0   0.0   0.0  0.0  0.0  0.0   0.0   0.0  0.0  0.0  0.0  0.0\n",
       "10   0.0  0.0   0.0   0.0  0.0  0.0  0.0   0.0   0.0  0.0  0.0  0.0  0.0\n",
       "11   0.0  0.0   0.0   0.0  0.0  0.0  0.0   0.0   0.0  0.0  0.0  0.0  0.0\n",
       "12   0.0  0.0   0.0   0.0  0.0  0.0  0.0   0.0   0.0  0.0  0.0  0.0  0.0\n",
       "13   0.0  0.0   0.0   0.0  0.0  0.0  0.0   0.0   0.0  0.0  0.0  0.0  0.0\n",
       "14   0.0  0.0   0.0   0.0  0.0  0.0  0.0   0.0   0.0  0.0  0.0  0.0  0.0\n",
       "15   0.0  0.0   0.0   0.0  0.0  0.0  0.0   0.0   0.0  0.0  0.0  0.0  0.0\n",
       "16   0.0  0.0   0.0   0.0  0.0  0.0  0.0   0.0   0.0  0.0  0.0  0.0  0.0\n",
       "17   0.0  0.0   0.0   0.0  0.0  0.0  0.0   0.0   0.0  0.0  0.0  0.0  0.0\n",
       "18   0.0  0.0   0.0   0.0  0.0  0.0  0.0   0.0   0.0  0.0  0.0  0.0  0.0\n",
       "19   0.0  0.0   0.0   0.0  0.0  0.0  0.0   0.0   0.0  0.0  0.0  0.0  0.0\n",
       "20   0.0  0.0   0.0   0.0  0.0  0.0  0.0   0.0   0.0  0.0  0.0  0.0  0.0\n",
       "21   0.0  0.0   0.0   0.0  0.0  0.0  0.0   0.0   0.0  0.0  0.0  0.0  0.0\n",
       "22   0.0  0.0   0.0   0.0  0.0  0.0  0.0   0.0   0.0  0.0  0.0  0.0  0.0\n",
       "23   0.0  0.0   0.0   0.0  0.0  0.0  0.0   0.0   0.0  0.0  0.0  0.0  0.0\n",
       "24   0.0  0.0   0.0   0.0  0.0  0.0  0.0   0.0   0.0  0.0  0.0  0.0  0.0\n",
       "25   0.0  0.0   0.0   0.0  0.0  0.0  0.0   0.0   0.0  0.0  0.0  0.0  0.0\n",
       "26   0.0  0.0   0.0   0.0  0.0  0.0  0.0   0.0   0.0  0.0  0.0  0.0  0.0\n",
       "27   0.0  0.0   0.0   0.0  0.0  0.0  0.0   0.0   0.0  0.0  0.0  0.0  0.0\n",
       "28   0.0  0.0   0.0  10.0  0.0  0.0  0.0   0.0   3.0  0.0  0.0  0.0 -5.0\n",
       "29   8.0  0.0   5.0 -15.0  0.0  0.0  0.0   0.0   0.0  3.0  1.0  4.0  2.0\n",
       "30 -10.0 -4.0 -12.0  11.0 -5.0 -3.0 -2.0  -7.0   3.0 -8.0 -1.0 -1.0 -1.0\n",
       "31 -19.0 -2.0  -2.0  -8.0 -3.0  0.0 -1.0  10.0  -3.0 -1.0  0.0  9.0 -8.0\n",
       "32 -11.0 -2.0   0.0  -4.0 -1.0 -7.0  0.0   1.0  -9.0  1.0  0.0  0.0  0.0\n",
       "33  19.0  0.0  -1.0  12.0  0.0  3.0  0.0   0.0 -11.0  0.0  8.0  0.0  6.0\n",
       "34  10.0  8.0   7.0   4.0  0.0  5.0  2.0   6.0  -2.0  5.0  3.0  6.0  1.0\n",
       "35   0.0  3.0  -1.0   1.0 -1.0  0.0  0.0   0.0 -11.0  0.0  0.0  0.0 -1.0\n",
       "36   9.0  0.0   0.0  -1.0  0.0  0.0  0.0   0.0  -2.0  0.0  0.0  0.0  0.0\n",
       "37  13.0  2.0   6.0   3.0  5.0  8.0  2.0   7.0  10.0  5.0  3.0  6.0  3.0\n",
       "38   NaN  NaN   NaN   NaN  NaN  NaN  NaN   NaN   NaN  NaN  NaN  NaN  NaN"
      ],
      "text/html": "<div>\n<style scoped>\n    .dataframe tbody tr th:only-of-type {\n        vertical-align: middle;\n    }\n\n    .dataframe tbody tr th {\n        vertical-align: top;\n    }\n\n    .dataframe thead th {\n        text-align: right;\n    }\n</style>\n<table border=\"1\" class=\"dataframe\">\n  <thead>\n    <tr style=\"text-align: right;\">\n      <th></th>\n      <th>0</th>\n      <th>1</th>\n      <th>2</th>\n      <th>3</th>\n      <th>4</th>\n      <th>5</th>\n      <th>6</th>\n      <th>7</th>\n      <th>8</th>\n      <th>9</th>\n      <th>10</th>\n      <th>11</th>\n      <th>12</th>\n    </tr>\n  </thead>\n  <tbody>\n    <tr>\n      <th>0</th>\n      <td>0.0</td>\n      <td>0.0</td>\n      <td>0.0</td>\n      <td>0.0</td>\n      <td>0.0</td>\n      <td>0.0</td>\n      <td>0.0</td>\n      <td>0.0</td>\n      <td>0.0</td>\n      <td>0.0</td>\n      <td>0.0</td>\n      <td>0.0</td>\n      <td>0.0</td>\n    </tr>\n    <tr>\n      <th>1</th>\n      <td>0.0</td>\n      <td>0.0</td>\n      <td>0.0</td>\n      <td>0.0</td>\n      <td>0.0</td>\n      <td>0.0</td>\n      <td>0.0</td>\n      <td>0.0</td>\n      <td>0.0</td>\n      <td>0.0</td>\n      <td>0.0</td>\n      <td>0.0</td>\n      <td>0.0</td>\n    </tr>\n    <tr>\n      <th>2</th>\n      <td>0.0</td>\n      <td>0.0</td>\n      <td>0.0</td>\n      <td>0.0</td>\n      <td>0.0</td>\n      <td>0.0</td>\n      <td>0.0</td>\n      <td>0.0</td>\n      <td>0.0</td>\n      <td>0.0</td>\n      <td>0.0</td>\n      <td>0.0</td>\n      <td>0.0</td>\n    </tr>\n    <tr>\n      <th>3</th>\n      <td>0.0</td>\n      <td>0.0</td>\n      <td>0.0</td>\n      <td>0.0</td>\n      <td>0.0</td>\n      <td>0.0</td>\n      <td>0.0</td>\n      <td>0.0</td>\n      <td>0.0</td>\n      <td>0.0</td>\n      <td>0.0</td>\n      <td>0.0</td>\n      <td>0.0</td>\n    </tr>\n    <tr>\n      <th>4</th>\n      <td>0.0</td>\n      <td>0.0</td>\n      <td>0.0</td>\n      <td>0.0</td>\n      <td>0.0</td>\n      <td>0.0</td>\n      <td>0.0</td>\n      <td>0.0</td>\n      <td>0.0</td>\n      <td>0.0</td>\n      <td>0.0</td>\n      <td>0.0</td>\n      <td>0.0</td>\n    </tr>\n    <tr>\n      <th>5</th>\n      <td>0.0</td>\n      <td>0.0</td>\n      <td>0.0</td>\n      <td>0.0</td>\n      <td>0.0</td>\n      <td>0.0</td>\n      <td>0.0</td>\n      <td>0.0</td>\n      <td>0.0</td>\n      <td>0.0</td>\n      <td>0.0</td>\n      <td>0.0</td>\n      <td>0.0</td>\n    </tr>\n    <tr>\n      <th>6</th>\n      <td>0.0</td>\n      <td>0.0</td>\n      <td>0.0</td>\n      <td>0.0</td>\n      <td>0.0</td>\n      <td>0.0</td>\n      <td>0.0</td>\n      <td>0.0</td>\n      <td>0.0</td>\n      <td>0.0</td>\n      <td>0.0</td>\n      <td>0.0</td>\n      <td>0.0</td>\n    </tr>\n    <tr>\n      <th>7</th>\n      <td>0.0</td>\n      <td>0.0</td>\n      <td>0.0</td>\n      <td>0.0</td>\n      <td>0.0</td>\n      <td>0.0</td>\n      <td>0.0</td>\n      <td>0.0</td>\n      <td>0.0</td>\n      <td>0.0</td>\n      <td>0.0</td>\n      <td>0.0</td>\n      <td>0.0</td>\n    </tr>\n    <tr>\n      <th>8</th>\n      <td>0.0</td>\n      <td>0.0</td>\n      <td>0.0</td>\n      <td>0.0</td>\n      <td>0.0</td>\n      <td>0.0</td>\n      <td>0.0</td>\n      <td>0.0</td>\n      <td>0.0</td>\n      <td>0.0</td>\n      <td>0.0</td>\n      <td>0.0</td>\n      <td>0.0</td>\n    </tr>\n    <tr>\n      <th>9</th>\n      <td>0.0</td>\n      <td>0.0</td>\n      <td>0.0</td>\n      <td>0.0</td>\n      <td>0.0</td>\n      <td>0.0</td>\n      <td>0.0</td>\n      <td>0.0</td>\n      <td>0.0</td>\n      <td>0.0</td>\n      <td>0.0</td>\n      <td>0.0</td>\n      <td>0.0</td>\n    </tr>\n    <tr>\n      <th>10</th>\n      <td>0.0</td>\n      <td>0.0</td>\n      <td>0.0</td>\n      <td>0.0</td>\n      <td>0.0</td>\n      <td>0.0</td>\n      <td>0.0</td>\n      <td>0.0</td>\n      <td>0.0</td>\n      <td>0.0</td>\n      <td>0.0</td>\n      <td>0.0</td>\n      <td>0.0</td>\n    </tr>\n    <tr>\n      <th>11</th>\n      <td>0.0</td>\n      <td>0.0</td>\n      <td>0.0</td>\n      <td>0.0</td>\n      <td>0.0</td>\n      <td>0.0</td>\n      <td>0.0</td>\n      <td>0.0</td>\n      <td>0.0</td>\n      <td>0.0</td>\n      <td>0.0</td>\n      <td>0.0</td>\n      <td>0.0</td>\n    </tr>\n    <tr>\n      <th>12</th>\n      <td>0.0</td>\n      <td>0.0</td>\n      <td>0.0</td>\n      <td>0.0</td>\n      <td>0.0</td>\n      <td>0.0</td>\n      <td>0.0</td>\n      <td>0.0</td>\n      <td>0.0</td>\n      <td>0.0</td>\n      <td>0.0</td>\n      <td>0.0</td>\n      <td>0.0</td>\n    </tr>\n    <tr>\n      <th>13</th>\n      <td>0.0</td>\n      <td>0.0</td>\n      <td>0.0</td>\n      <td>0.0</td>\n      <td>0.0</td>\n      <td>0.0</td>\n      <td>0.0</td>\n      <td>0.0</td>\n      <td>0.0</td>\n      <td>0.0</td>\n      <td>0.0</td>\n      <td>0.0</td>\n      <td>0.0</td>\n    </tr>\n    <tr>\n      <th>14</th>\n      <td>0.0</td>\n      <td>0.0</td>\n      <td>0.0</td>\n      <td>0.0</td>\n      <td>0.0</td>\n      <td>0.0</td>\n      <td>0.0</td>\n      <td>0.0</td>\n      <td>0.0</td>\n      <td>0.0</td>\n      <td>0.0</td>\n      <td>0.0</td>\n      <td>0.0</td>\n    </tr>\n    <tr>\n      <th>15</th>\n      <td>0.0</td>\n      <td>0.0</td>\n      <td>0.0</td>\n      <td>0.0</td>\n      <td>0.0</td>\n      <td>0.0</td>\n      <td>0.0</td>\n      <td>0.0</td>\n      <td>0.0</td>\n      <td>0.0</td>\n      <td>0.0</td>\n      <td>0.0</td>\n      <td>0.0</td>\n    </tr>\n    <tr>\n      <th>16</th>\n      <td>0.0</td>\n      <td>0.0</td>\n      <td>0.0</td>\n      <td>0.0</td>\n      <td>0.0</td>\n      <td>0.0</td>\n      <td>0.0</td>\n      <td>0.0</td>\n      <td>0.0</td>\n      <td>0.0</td>\n      <td>0.0</td>\n      <td>0.0</td>\n      <td>0.0</td>\n    </tr>\n    <tr>\n      <th>17</th>\n      <td>0.0</td>\n      <td>0.0</td>\n      <td>0.0</td>\n      <td>0.0</td>\n      <td>0.0</td>\n      <td>0.0</td>\n      <td>0.0</td>\n      <td>0.0</td>\n      <td>0.0</td>\n      <td>0.0</td>\n      <td>0.0</td>\n      <td>0.0</td>\n      <td>0.0</td>\n    </tr>\n    <tr>\n      <th>18</th>\n      <td>0.0</td>\n      <td>0.0</td>\n      <td>0.0</td>\n      <td>0.0</td>\n      <td>0.0</td>\n      <td>0.0</td>\n      <td>0.0</td>\n      <td>0.0</td>\n      <td>0.0</td>\n      <td>0.0</td>\n      <td>0.0</td>\n      <td>0.0</td>\n      <td>0.0</td>\n    </tr>\n    <tr>\n      <th>19</th>\n      <td>0.0</td>\n      <td>0.0</td>\n      <td>0.0</td>\n      <td>0.0</td>\n      <td>0.0</td>\n      <td>0.0</td>\n      <td>0.0</td>\n      <td>0.0</td>\n      <td>0.0</td>\n      <td>0.0</td>\n      <td>0.0</td>\n      <td>0.0</td>\n      <td>0.0</td>\n    </tr>\n    <tr>\n      <th>20</th>\n      <td>0.0</td>\n      <td>0.0</td>\n      <td>0.0</td>\n      <td>0.0</td>\n      <td>0.0</td>\n      <td>0.0</td>\n      <td>0.0</td>\n      <td>0.0</td>\n      <td>0.0</td>\n      <td>0.0</td>\n      <td>0.0</td>\n      <td>0.0</td>\n      <td>0.0</td>\n    </tr>\n    <tr>\n      <th>21</th>\n      <td>0.0</td>\n      <td>0.0</td>\n      <td>0.0</td>\n      <td>0.0</td>\n      <td>0.0</td>\n      <td>0.0</td>\n      <td>0.0</td>\n      <td>0.0</td>\n      <td>0.0</td>\n      <td>0.0</td>\n      <td>0.0</td>\n      <td>0.0</td>\n      <td>0.0</td>\n    </tr>\n    <tr>\n      <th>22</th>\n      <td>0.0</td>\n      <td>0.0</td>\n      <td>0.0</td>\n      <td>0.0</td>\n      <td>0.0</td>\n      <td>0.0</td>\n      <td>0.0</td>\n      <td>0.0</td>\n      <td>0.0</td>\n      <td>0.0</td>\n      <td>0.0</td>\n      <td>0.0</td>\n      <td>0.0</td>\n    </tr>\n    <tr>\n      <th>23</th>\n      <td>0.0</td>\n      <td>0.0</td>\n      <td>0.0</td>\n      <td>0.0</td>\n      <td>0.0</td>\n      <td>0.0</td>\n      <td>0.0</td>\n      <td>0.0</td>\n      <td>0.0</td>\n      <td>0.0</td>\n      <td>0.0</td>\n      <td>0.0</td>\n      <td>0.0</td>\n    </tr>\n    <tr>\n      <th>24</th>\n      <td>0.0</td>\n      <td>0.0</td>\n      <td>0.0</td>\n      <td>0.0</td>\n      <td>0.0</td>\n      <td>0.0</td>\n      <td>0.0</td>\n      <td>0.0</td>\n      <td>0.0</td>\n      <td>0.0</td>\n      <td>0.0</td>\n      <td>0.0</td>\n      <td>0.0</td>\n    </tr>\n    <tr>\n      <th>25</th>\n      <td>0.0</td>\n      <td>0.0</td>\n      <td>0.0</td>\n      <td>0.0</td>\n      <td>0.0</td>\n      <td>0.0</td>\n      <td>0.0</td>\n      <td>0.0</td>\n      <td>0.0</td>\n      <td>0.0</td>\n      <td>0.0</td>\n      <td>0.0</td>\n      <td>0.0</td>\n    </tr>\n    <tr>\n      <th>26</th>\n      <td>0.0</td>\n      <td>0.0</td>\n      <td>0.0</td>\n      <td>0.0</td>\n      <td>0.0</td>\n      <td>0.0</td>\n      <td>0.0</td>\n      <td>0.0</td>\n      <td>0.0</td>\n      <td>0.0</td>\n      <td>0.0</td>\n      <td>0.0</td>\n      <td>0.0</td>\n    </tr>\n    <tr>\n      <th>27</th>\n      <td>0.0</td>\n      <td>0.0</td>\n      <td>0.0</td>\n      <td>0.0</td>\n      <td>0.0</td>\n      <td>0.0</td>\n      <td>0.0</td>\n      <td>0.0</td>\n      <td>0.0</td>\n      <td>0.0</td>\n      <td>0.0</td>\n      <td>0.0</td>\n      <td>0.0</td>\n    </tr>\n    <tr>\n      <th>28</th>\n      <td>0.0</td>\n      <td>0.0</td>\n      <td>0.0</td>\n      <td>10.0</td>\n      <td>0.0</td>\n      <td>0.0</td>\n      <td>0.0</td>\n      <td>0.0</td>\n      <td>3.0</td>\n      <td>0.0</td>\n      <td>0.0</td>\n      <td>0.0</td>\n      <td>-5.0</td>\n    </tr>\n    <tr>\n      <th>29</th>\n      <td>8.0</td>\n      <td>0.0</td>\n      <td>5.0</td>\n      <td>-15.0</td>\n      <td>0.0</td>\n      <td>0.0</td>\n      <td>0.0</td>\n      <td>0.0</td>\n      <td>0.0</td>\n      <td>3.0</td>\n      <td>1.0</td>\n      <td>4.0</td>\n      <td>2.0</td>\n    </tr>\n    <tr>\n      <th>30</th>\n      <td>-10.0</td>\n      <td>-4.0</td>\n      <td>-12.0</td>\n      <td>11.0</td>\n      <td>-5.0</td>\n      <td>-3.0</td>\n      <td>-2.0</td>\n      <td>-7.0</td>\n      <td>3.0</td>\n      <td>-8.0</td>\n      <td>-1.0</td>\n      <td>-1.0</td>\n      <td>-1.0</td>\n    </tr>\n    <tr>\n      <th>31</th>\n      <td>-19.0</td>\n      <td>-2.0</td>\n      <td>-2.0</td>\n      <td>-8.0</td>\n      <td>-3.0</td>\n      <td>0.0</td>\n      <td>-1.0</td>\n      <td>10.0</td>\n      <td>-3.0</td>\n      <td>-1.0</td>\n      <td>0.0</td>\n      <td>9.0</td>\n      <td>-8.0</td>\n    </tr>\n    <tr>\n      <th>32</th>\n      <td>-11.0</td>\n      <td>-2.0</td>\n      <td>0.0</td>\n      <td>-4.0</td>\n      <td>-1.0</td>\n      <td>-7.0</td>\n      <td>0.0</td>\n      <td>1.0</td>\n      <td>-9.0</td>\n      <td>1.0</td>\n      <td>0.0</td>\n      <td>0.0</td>\n      <td>0.0</td>\n    </tr>\n    <tr>\n      <th>33</th>\n      <td>19.0</td>\n      <td>0.0</td>\n      <td>-1.0</td>\n      <td>12.0</td>\n      <td>0.0</td>\n      <td>3.0</td>\n      <td>0.0</td>\n      <td>0.0</td>\n      <td>-11.0</td>\n      <td>0.0</td>\n      <td>8.0</td>\n      <td>0.0</td>\n      <td>6.0</td>\n    </tr>\n    <tr>\n      <th>34</th>\n      <td>10.0</td>\n      <td>8.0</td>\n      <td>7.0</td>\n      <td>4.0</td>\n      <td>0.0</td>\n      <td>5.0</td>\n      <td>2.0</td>\n      <td>6.0</td>\n      <td>-2.0</td>\n      <td>5.0</td>\n      <td>3.0</td>\n      <td>6.0</td>\n      <td>1.0</td>\n    </tr>\n    <tr>\n      <th>35</th>\n      <td>0.0</td>\n      <td>3.0</td>\n      <td>-1.0</td>\n      <td>1.0</td>\n      <td>-1.0</td>\n      <td>0.0</td>\n      <td>0.0</td>\n      <td>0.0</td>\n      <td>-11.0</td>\n      <td>0.0</td>\n      <td>0.0</td>\n      <td>0.0</td>\n      <td>-1.0</td>\n    </tr>\n    <tr>\n      <th>36</th>\n      <td>9.0</td>\n      <td>0.0</td>\n      <td>0.0</td>\n      <td>-1.0</td>\n      <td>0.0</td>\n      <td>0.0</td>\n      <td>0.0</td>\n      <td>0.0</td>\n      <td>-2.0</td>\n      <td>0.0</td>\n      <td>0.0</td>\n      <td>0.0</td>\n      <td>0.0</td>\n    </tr>\n    <tr>\n      <th>37</th>\n      <td>13.0</td>\n      <td>2.0</td>\n      <td>6.0</td>\n      <td>3.0</td>\n      <td>5.0</td>\n      <td>8.0</td>\n      <td>2.0</td>\n      <td>7.0</td>\n      <td>10.0</td>\n      <td>5.0</td>\n      <td>3.0</td>\n      <td>6.0</td>\n      <td>3.0</td>\n    </tr>\n    <tr>\n      <th>38</th>\n      <td>NaN</td>\n      <td>NaN</td>\n      <td>NaN</td>\n      <td>NaN</td>\n      <td>NaN</td>\n      <td>NaN</td>\n      <td>NaN</td>\n      <td>NaN</td>\n      <td>NaN</td>\n      <td>NaN</td>\n      <td>NaN</td>\n      <td>NaN</td>\n      <td>NaN</td>\n    </tr>\n  </tbody>\n</table>\n</div>"
     },
     "metadata": {},
     "execution_count": 8
    }
   ],
   "source": [
    "pd.DataFrame(mp_parallelSPs.data.sp_zVals)-pd.DataFrame(mp_2opt.data.sp_zVals)"
   ]
  },
  {
   "cell_type": "code",
   "execution_count": 3,
   "metadata": {},
   "outputs": [],
   "source": [
    "phis_par = pd.DataFrame(data= mp_parallelSPs.data.phis).apply(lambda x: round(x*1e-6,0)).transpose()"
   ]
  },
  {
   "cell_type": "code",
   "execution_count": 4,
   "metadata": {},
   "outputs": [],
   "source": [
    "phis_2opt = pd.DataFrame(data= mp_2opt.data.phis).apply(lambda x: round(x*1e-6,0)).transpose()"
   ]
  },
  {
   "cell_type": "code",
   "execution_count": 5,
   "metadata": {},
   "outputs": [
    {
     "output_type": "execute_result",
     "data": {
      "text/plain": [
       "       0    1    2    3    4    5    6     7    8    9   10    11   12\n",
       "0    0.0  0.0  0.0  0.0  0.0  0.0  0.0   0.0  0.0  0.0  0.0   0.0  0.0\n",
       "1    0.0  0.0  0.0  0.0  0.0  0.0  0.0   0.0  0.0  0.0  0.0   0.0  0.0\n",
       "2    0.0  0.0  0.0  0.0  0.0  0.0  0.0   0.0  0.0  0.0  0.0   0.0  0.0\n",
       "3    0.0  0.0  0.0  0.0  0.0  0.0  0.0   0.0  0.0  0.0  0.0   0.0  0.0\n",
       "4    0.0  0.0  0.0  0.0  0.0  0.0  0.0   0.0  0.0  0.0  0.0   0.0  0.0\n",
       "5    0.0  0.0  0.0  0.0  0.0  0.0  0.0   0.0  0.0  0.0  0.0   0.0  0.0\n",
       "6    0.0  0.0  0.0  0.0  0.0  0.0  0.0   0.0  0.0  0.0  0.0   0.0  0.0\n",
       "7    0.0  0.0  0.0  0.0  0.0  0.0  0.0   0.0  0.0  0.0  0.0   0.0  0.0\n",
       "8    0.0  0.0  0.0  0.0  0.0  0.0  0.0   0.0  0.0  0.0  0.0   0.0  0.0\n",
       "9    0.0  0.0  0.0  0.0  0.0  0.0  0.0   0.0  0.0  0.0  0.0   0.0  0.0\n",
       "10   0.0  0.0  0.0  0.0  0.0  0.0  0.0   0.0  0.0  0.0  0.0   0.0  0.0\n",
       "11   0.0  0.0  0.0  0.0  0.0  0.0  0.0   0.0  0.0  0.0  0.0   0.0  0.0\n",
       "12   0.0  0.0  0.0  0.0  0.0  0.0  0.0   0.0  0.0  0.0  0.0   0.0  0.0\n",
       "13   0.0  0.0  0.0  0.0  0.0  0.0  0.0   0.0  0.0  0.0  0.0   0.0  0.0\n",
       "14   0.0  0.0  0.0  0.0  0.0  0.0  0.0   0.0  0.0  0.0  0.0   0.0  0.0\n",
       "15   0.0  0.0  0.0  0.0  0.0  0.0  0.0   0.0  0.0  0.0  0.0   0.0  0.0\n",
       "16   0.0  0.0  0.0  0.0  0.0  0.0  0.0   0.0  0.0  0.0  0.0   0.0  0.0\n",
       "17   0.0  0.0  0.0  0.0  0.0  0.0  0.0   0.0  0.0  0.0  0.0   0.0  0.0\n",
       "18   0.0  0.0  0.0  0.0  0.0  0.0  0.0   0.0  0.0  0.0  0.0   0.0  0.0\n",
       "19   0.0  0.0  0.0  0.0  0.0  0.0  0.0   0.0  0.0  0.0  0.0   0.0  0.0\n",
       "20   0.0  0.0  0.0  0.0  0.0  0.0  0.0   0.0  0.0  0.0  0.0   0.0  0.0\n",
       "21   0.0  0.0  0.0  0.0  0.0  0.0  0.0   0.0  0.0  0.0  0.0   0.0  0.0\n",
       "22   0.0  0.0  0.0  0.0  0.0  0.0  0.0   0.0  0.0  0.0  0.0   0.0  0.0\n",
       "23   0.0  0.0  0.0  0.0  0.0  0.0  0.0   0.0  0.0  0.0  0.0   0.0  0.0\n",
       "24   0.0  0.0  0.0  0.0  0.0  0.0  0.0   0.0  0.0  0.0  0.0   0.0  0.0\n",
       "25   0.0  0.0  0.0  0.0  0.0  0.0  0.0   0.0  0.0  0.0  0.0   0.0  0.0\n",
       "26   0.0  0.0  0.0  0.0  0.0  0.0  0.0   0.0  0.0  0.0  0.0   0.0  0.0\n",
       "27   0.0  0.0  0.0  0.0  0.0  0.0  0.0   0.0  0.0  0.0  0.0   0.0  0.0\n",
       "28   0.0  0.0  0.0  0.0  0.0  0.0  0.0   0.0  0.0  0.0  0.0   0.0  0.0\n",
       "29   0.0  0.0  0.0  0.0  0.0  0.0  0.0   0.0  0.0  0.0  0.0   0.0  0.0\n",
       "30 -43.0 -2.0 -3.0 -7.0  0.0  0.0 -1.0  13.0 -3.0  0.0  0.0  15.0 -9.0\n",
       "31 -18.0 -1.0  2.0  0.0  0.0  0.0  1.0   0.0  1.0  1.0 -1.0  -1.0  0.0\n",
       "32   0.0  0.0  0.0  0.0  0.0  0.0  0.0   0.0  0.0  0.0  0.0   0.0  0.0\n",
       "33   0.0  2.0  0.0  0.0  0.0  0.0  0.0   0.0  0.0  0.0  0.0   0.0  0.0\n",
       "34   0.0 -1.0  0.0  0.0  0.0  0.0  0.0   0.0  0.0  0.0  0.0   0.0  0.0\n",
       "35   0.0  0.0  0.0  0.0  0.0  0.0  0.0   0.0  0.0  0.0  0.0   0.0  0.0\n",
       "36   0.0  0.0  0.0  0.0  0.0  0.0  0.0   0.0  0.0  0.0  0.0   0.0  0.0\n",
       "37   0.0  0.0  0.0  0.0  0.0  0.0  0.0   0.0  0.0  0.0  0.0   0.0  0.0\n",
       "38   NaN  NaN  NaN  NaN  NaN  NaN  NaN   NaN  NaN  NaN  NaN   NaN  NaN"
      ],
      "text/html": "<div>\n<style scoped>\n    .dataframe tbody tr th:only-of-type {\n        vertical-align: middle;\n    }\n\n    .dataframe tbody tr th {\n        vertical-align: top;\n    }\n\n    .dataframe thead th {\n        text-align: right;\n    }\n</style>\n<table border=\"1\" class=\"dataframe\">\n  <thead>\n    <tr style=\"text-align: right;\">\n      <th></th>\n      <th>0</th>\n      <th>1</th>\n      <th>2</th>\n      <th>3</th>\n      <th>4</th>\n      <th>5</th>\n      <th>6</th>\n      <th>7</th>\n      <th>8</th>\n      <th>9</th>\n      <th>10</th>\n      <th>11</th>\n      <th>12</th>\n    </tr>\n  </thead>\n  <tbody>\n    <tr>\n      <th>0</th>\n      <td>0.0</td>\n      <td>0.0</td>\n      <td>0.0</td>\n      <td>0.0</td>\n      <td>0.0</td>\n      <td>0.0</td>\n      <td>0.0</td>\n      <td>0.0</td>\n      <td>0.0</td>\n      <td>0.0</td>\n      <td>0.0</td>\n      <td>0.0</td>\n      <td>0.0</td>\n    </tr>\n    <tr>\n      <th>1</th>\n      <td>0.0</td>\n      <td>0.0</td>\n      <td>0.0</td>\n      <td>0.0</td>\n      <td>0.0</td>\n      <td>0.0</td>\n      <td>0.0</td>\n      <td>0.0</td>\n      <td>0.0</td>\n      <td>0.0</td>\n      <td>0.0</td>\n      <td>0.0</td>\n      <td>0.0</td>\n    </tr>\n    <tr>\n      <th>2</th>\n      <td>0.0</td>\n      <td>0.0</td>\n      <td>0.0</td>\n      <td>0.0</td>\n      <td>0.0</td>\n      <td>0.0</td>\n      <td>0.0</td>\n      <td>0.0</td>\n      <td>0.0</td>\n      <td>0.0</td>\n      <td>0.0</td>\n      <td>0.0</td>\n      <td>0.0</td>\n    </tr>\n    <tr>\n      <th>3</th>\n      <td>0.0</td>\n      <td>0.0</td>\n      <td>0.0</td>\n      <td>0.0</td>\n      <td>0.0</td>\n      <td>0.0</td>\n      <td>0.0</td>\n      <td>0.0</td>\n      <td>0.0</td>\n      <td>0.0</td>\n      <td>0.0</td>\n      <td>0.0</td>\n      <td>0.0</td>\n    </tr>\n    <tr>\n      <th>4</th>\n      <td>0.0</td>\n      <td>0.0</td>\n      <td>0.0</td>\n      <td>0.0</td>\n      <td>0.0</td>\n      <td>0.0</td>\n      <td>0.0</td>\n      <td>0.0</td>\n      <td>0.0</td>\n      <td>0.0</td>\n      <td>0.0</td>\n      <td>0.0</td>\n      <td>0.0</td>\n    </tr>\n    <tr>\n      <th>5</th>\n      <td>0.0</td>\n      <td>0.0</td>\n      <td>0.0</td>\n      <td>0.0</td>\n      <td>0.0</td>\n      <td>0.0</td>\n      <td>0.0</td>\n      <td>0.0</td>\n      <td>0.0</td>\n      <td>0.0</td>\n      <td>0.0</td>\n      <td>0.0</td>\n      <td>0.0</td>\n    </tr>\n    <tr>\n      <th>6</th>\n      <td>0.0</td>\n      <td>0.0</td>\n      <td>0.0</td>\n      <td>0.0</td>\n      <td>0.0</td>\n      <td>0.0</td>\n      <td>0.0</td>\n      <td>0.0</td>\n      <td>0.0</td>\n      <td>0.0</td>\n      <td>0.0</td>\n      <td>0.0</td>\n      <td>0.0</td>\n    </tr>\n    <tr>\n      <th>7</th>\n      <td>0.0</td>\n      <td>0.0</td>\n      <td>0.0</td>\n      <td>0.0</td>\n      <td>0.0</td>\n      <td>0.0</td>\n      <td>0.0</td>\n      <td>0.0</td>\n      <td>0.0</td>\n      <td>0.0</td>\n      <td>0.0</td>\n      <td>0.0</td>\n      <td>0.0</td>\n    </tr>\n    <tr>\n      <th>8</th>\n      <td>0.0</td>\n      <td>0.0</td>\n      <td>0.0</td>\n      <td>0.0</td>\n      <td>0.0</td>\n      <td>0.0</td>\n      <td>0.0</td>\n      <td>0.0</td>\n      <td>0.0</td>\n      <td>0.0</td>\n      <td>0.0</td>\n      <td>0.0</td>\n      <td>0.0</td>\n    </tr>\n    <tr>\n      <th>9</th>\n      <td>0.0</td>\n      <td>0.0</td>\n      <td>0.0</td>\n      <td>0.0</td>\n      <td>0.0</td>\n      <td>0.0</td>\n      <td>0.0</td>\n      <td>0.0</td>\n      <td>0.0</td>\n      <td>0.0</td>\n      <td>0.0</td>\n      <td>0.0</td>\n      <td>0.0</td>\n    </tr>\n    <tr>\n      <th>10</th>\n      <td>0.0</td>\n      <td>0.0</td>\n      <td>0.0</td>\n      <td>0.0</td>\n      <td>0.0</td>\n      <td>0.0</td>\n      <td>0.0</td>\n      <td>0.0</td>\n      <td>0.0</td>\n      <td>0.0</td>\n      <td>0.0</td>\n      <td>0.0</td>\n      <td>0.0</td>\n    </tr>\n    <tr>\n      <th>11</th>\n      <td>0.0</td>\n      <td>0.0</td>\n      <td>0.0</td>\n      <td>0.0</td>\n      <td>0.0</td>\n      <td>0.0</td>\n      <td>0.0</td>\n      <td>0.0</td>\n      <td>0.0</td>\n      <td>0.0</td>\n      <td>0.0</td>\n      <td>0.0</td>\n      <td>0.0</td>\n    </tr>\n    <tr>\n      <th>12</th>\n      <td>0.0</td>\n      <td>0.0</td>\n      <td>0.0</td>\n      <td>0.0</td>\n      <td>0.0</td>\n      <td>0.0</td>\n      <td>0.0</td>\n      <td>0.0</td>\n      <td>0.0</td>\n      <td>0.0</td>\n      <td>0.0</td>\n      <td>0.0</td>\n      <td>0.0</td>\n    </tr>\n    <tr>\n      <th>13</th>\n      <td>0.0</td>\n      <td>0.0</td>\n      <td>0.0</td>\n      <td>0.0</td>\n      <td>0.0</td>\n      <td>0.0</td>\n      <td>0.0</td>\n      <td>0.0</td>\n      <td>0.0</td>\n      <td>0.0</td>\n      <td>0.0</td>\n      <td>0.0</td>\n      <td>0.0</td>\n    </tr>\n    <tr>\n      <th>14</th>\n      <td>0.0</td>\n      <td>0.0</td>\n      <td>0.0</td>\n      <td>0.0</td>\n      <td>0.0</td>\n      <td>0.0</td>\n      <td>0.0</td>\n      <td>0.0</td>\n      <td>0.0</td>\n      <td>0.0</td>\n      <td>0.0</td>\n      <td>0.0</td>\n      <td>0.0</td>\n    </tr>\n    <tr>\n      <th>15</th>\n      <td>0.0</td>\n      <td>0.0</td>\n      <td>0.0</td>\n      <td>0.0</td>\n      <td>0.0</td>\n      <td>0.0</td>\n      <td>0.0</td>\n      <td>0.0</td>\n      <td>0.0</td>\n      <td>0.0</td>\n      <td>0.0</td>\n      <td>0.0</td>\n      <td>0.0</td>\n    </tr>\n    <tr>\n      <th>16</th>\n      <td>0.0</td>\n      <td>0.0</td>\n      <td>0.0</td>\n      <td>0.0</td>\n      <td>0.0</td>\n      <td>0.0</td>\n      <td>0.0</td>\n      <td>0.0</td>\n      <td>0.0</td>\n      <td>0.0</td>\n      <td>0.0</td>\n      <td>0.0</td>\n      <td>0.0</td>\n    </tr>\n    <tr>\n      <th>17</th>\n      <td>0.0</td>\n      <td>0.0</td>\n      <td>0.0</td>\n      <td>0.0</td>\n      <td>0.0</td>\n      <td>0.0</td>\n      <td>0.0</td>\n      <td>0.0</td>\n      <td>0.0</td>\n      <td>0.0</td>\n      <td>0.0</td>\n      <td>0.0</td>\n      <td>0.0</td>\n    </tr>\n    <tr>\n      <th>18</th>\n      <td>0.0</td>\n      <td>0.0</td>\n      <td>0.0</td>\n      <td>0.0</td>\n      <td>0.0</td>\n      <td>0.0</td>\n      <td>0.0</td>\n      <td>0.0</td>\n      <td>0.0</td>\n      <td>0.0</td>\n      <td>0.0</td>\n      <td>0.0</td>\n      <td>0.0</td>\n    </tr>\n    <tr>\n      <th>19</th>\n      <td>0.0</td>\n      <td>0.0</td>\n      <td>0.0</td>\n      <td>0.0</td>\n      <td>0.0</td>\n      <td>0.0</td>\n      <td>0.0</td>\n      <td>0.0</td>\n      <td>0.0</td>\n      <td>0.0</td>\n      <td>0.0</td>\n      <td>0.0</td>\n      <td>0.0</td>\n    </tr>\n    <tr>\n      <th>20</th>\n      <td>0.0</td>\n      <td>0.0</td>\n      <td>0.0</td>\n      <td>0.0</td>\n      <td>0.0</td>\n      <td>0.0</td>\n      <td>0.0</td>\n      <td>0.0</td>\n      <td>0.0</td>\n      <td>0.0</td>\n      <td>0.0</td>\n      <td>0.0</td>\n      <td>0.0</td>\n    </tr>\n    <tr>\n      <th>21</th>\n      <td>0.0</td>\n      <td>0.0</td>\n      <td>0.0</td>\n      <td>0.0</td>\n      <td>0.0</td>\n      <td>0.0</td>\n      <td>0.0</td>\n      <td>0.0</td>\n      <td>0.0</td>\n      <td>0.0</td>\n      <td>0.0</td>\n      <td>0.0</td>\n      <td>0.0</td>\n    </tr>\n    <tr>\n      <th>22</th>\n      <td>0.0</td>\n      <td>0.0</td>\n      <td>0.0</td>\n      <td>0.0</td>\n      <td>0.0</td>\n      <td>0.0</td>\n      <td>0.0</td>\n      <td>0.0</td>\n      <td>0.0</td>\n      <td>0.0</td>\n      <td>0.0</td>\n      <td>0.0</td>\n      <td>0.0</td>\n    </tr>\n    <tr>\n      <th>23</th>\n      <td>0.0</td>\n      <td>0.0</td>\n      <td>0.0</td>\n      <td>0.0</td>\n      <td>0.0</td>\n      <td>0.0</td>\n      <td>0.0</td>\n      <td>0.0</td>\n      <td>0.0</td>\n      <td>0.0</td>\n      <td>0.0</td>\n      <td>0.0</td>\n      <td>0.0</td>\n    </tr>\n    <tr>\n      <th>24</th>\n      <td>0.0</td>\n      <td>0.0</td>\n      <td>0.0</td>\n      <td>0.0</td>\n      <td>0.0</td>\n      <td>0.0</td>\n      <td>0.0</td>\n      <td>0.0</td>\n      <td>0.0</td>\n      <td>0.0</td>\n      <td>0.0</td>\n      <td>0.0</td>\n      <td>0.0</td>\n    </tr>\n    <tr>\n      <th>25</th>\n      <td>0.0</td>\n      <td>0.0</td>\n      <td>0.0</td>\n      <td>0.0</td>\n      <td>0.0</td>\n      <td>0.0</td>\n      <td>0.0</td>\n      <td>0.0</td>\n      <td>0.0</td>\n      <td>0.0</td>\n      <td>0.0</td>\n      <td>0.0</td>\n      <td>0.0</td>\n    </tr>\n    <tr>\n      <th>26</th>\n      <td>0.0</td>\n      <td>0.0</td>\n      <td>0.0</td>\n      <td>0.0</td>\n      <td>0.0</td>\n      <td>0.0</td>\n      <td>0.0</td>\n      <td>0.0</td>\n      <td>0.0</td>\n      <td>0.0</td>\n      <td>0.0</td>\n      <td>0.0</td>\n      <td>0.0</td>\n    </tr>\n    <tr>\n      <th>27</th>\n      <td>0.0</td>\n      <td>0.0</td>\n      <td>0.0</td>\n      <td>0.0</td>\n      <td>0.0</td>\n      <td>0.0</td>\n      <td>0.0</td>\n      <td>0.0</td>\n      <td>0.0</td>\n      <td>0.0</td>\n      <td>0.0</td>\n      <td>0.0</td>\n      <td>0.0</td>\n    </tr>\n    <tr>\n      <th>28</th>\n      <td>0.0</td>\n      <td>0.0</td>\n      <td>0.0</td>\n      <td>0.0</td>\n      <td>0.0</td>\n      <td>0.0</td>\n      <td>0.0</td>\n      <td>0.0</td>\n      <td>0.0</td>\n      <td>0.0</td>\n      <td>0.0</td>\n      <td>0.0</td>\n      <td>0.0</td>\n    </tr>\n    <tr>\n      <th>29</th>\n      <td>0.0</td>\n      <td>0.0</td>\n      <td>0.0</td>\n      <td>0.0</td>\n      <td>0.0</td>\n      <td>0.0</td>\n      <td>0.0</td>\n      <td>0.0</td>\n      <td>0.0</td>\n      <td>0.0</td>\n      <td>0.0</td>\n      <td>0.0</td>\n      <td>0.0</td>\n    </tr>\n    <tr>\n      <th>30</th>\n      <td>-43.0</td>\n      <td>-2.0</td>\n      <td>-3.0</td>\n      <td>-7.0</td>\n      <td>0.0</td>\n      <td>0.0</td>\n      <td>-1.0</td>\n      <td>13.0</td>\n      <td>-3.0</td>\n      <td>0.0</td>\n      <td>0.0</td>\n      <td>15.0</td>\n      <td>-9.0</td>\n    </tr>\n    <tr>\n      <th>31</th>\n      <td>-18.0</td>\n      <td>-1.0</td>\n      <td>2.0</td>\n      <td>0.0</td>\n      <td>0.0</td>\n      <td>0.0</td>\n      <td>1.0</td>\n      <td>0.0</td>\n      <td>1.0</td>\n      <td>1.0</td>\n      <td>-1.0</td>\n      <td>-1.0</td>\n      <td>0.0</td>\n    </tr>\n    <tr>\n      <th>32</th>\n      <td>0.0</td>\n      <td>0.0</td>\n      <td>0.0</td>\n      <td>0.0</td>\n      <td>0.0</td>\n      <td>0.0</td>\n      <td>0.0</td>\n      <td>0.0</td>\n      <td>0.0</td>\n      <td>0.0</td>\n      <td>0.0</td>\n      <td>0.0</td>\n      <td>0.0</td>\n    </tr>\n    <tr>\n      <th>33</th>\n      <td>0.0</td>\n      <td>2.0</td>\n      <td>0.0</td>\n      <td>0.0</td>\n      <td>0.0</td>\n      <td>0.0</td>\n      <td>0.0</td>\n      <td>0.0</td>\n      <td>0.0</td>\n      <td>0.0</td>\n      <td>0.0</td>\n      <td>0.0</td>\n      <td>0.0</td>\n    </tr>\n    <tr>\n      <th>34</th>\n      <td>0.0</td>\n      <td>-1.0</td>\n      <td>0.0</td>\n      <td>0.0</td>\n      <td>0.0</td>\n      <td>0.0</td>\n      <td>0.0</td>\n      <td>0.0</td>\n      <td>0.0</td>\n      <td>0.0</td>\n      <td>0.0</td>\n      <td>0.0</td>\n      <td>0.0</td>\n    </tr>\n    <tr>\n      <th>35</th>\n      <td>0.0</td>\n      <td>0.0</td>\n      <td>0.0</td>\n      <td>0.0</td>\n      <td>0.0</td>\n      <td>0.0</td>\n      <td>0.0</td>\n      <td>0.0</td>\n      <td>0.0</td>\n      <td>0.0</td>\n      <td>0.0</td>\n      <td>0.0</td>\n      <td>0.0</td>\n    </tr>\n    <tr>\n      <th>36</th>\n      <td>0.0</td>\n      <td>0.0</td>\n      <td>0.0</td>\n      <td>0.0</td>\n      <td>0.0</td>\n      <td>0.0</td>\n      <td>0.0</td>\n      <td>0.0</td>\n      <td>0.0</td>\n      <td>0.0</td>\n      <td>0.0</td>\n      <td>0.0</td>\n      <td>0.0</td>\n    </tr>\n    <tr>\n      <th>37</th>\n      <td>0.0</td>\n      <td>0.0</td>\n      <td>0.0</td>\n      <td>0.0</td>\n      <td>0.0</td>\n      <td>0.0</td>\n      <td>0.0</td>\n      <td>0.0</td>\n      <td>0.0</td>\n      <td>0.0</td>\n      <td>0.0</td>\n      <td>0.0</td>\n      <td>0.0</td>\n    </tr>\n    <tr>\n      <th>38</th>\n      <td>NaN</td>\n      <td>NaN</td>\n      <td>NaN</td>\n      <td>NaN</td>\n      <td>NaN</td>\n      <td>NaN</td>\n      <td>NaN</td>\n      <td>NaN</td>\n      <td>NaN</td>\n      <td>NaN</td>\n      <td>NaN</td>\n      <td>NaN</td>\n      <td>NaN</td>\n    </tr>\n  </tbody>\n</table>\n</div>"
     },
     "metadata": {},
     "execution_count": 5
    }
   ],
   "source": [
    "phis_par-phis_2opt"
   ]
  },
  {
   "cell_type": "code",
   "execution_count": 6,
   "metadata": {},
   "outputs": [
    {
     "output_type": "execute_result",
     "data": {
      "text/plain": [
       "(41, 13)"
      ]
     },
     "metadata": {},
     "execution_count": 6
    }
   ],
   "source": [
    "phis_2opt.shape"
   ]
  },
  {
   "cell_type": "code",
   "execution_count": 7,
   "metadata": {},
   "outputs": [],
   "source": [
    "z_sub_2opt = sum([mp_2opt.subproblems[n].data.obj_vals[-1] for n in mp_2opt.data.N])\n",
    "phi_sum_2opt = sum(pd.DataFrame(data= mp_2opt.data.phis).iloc[:,-1])"
   ]
  },
  {
   "cell_type": "code",
   "execution_count": 8,
   "metadata": {},
   "outputs": [],
   "source": [
    "N_4bounds = [0,32,32,35,34,36,33,33,31,33,35,33,35] #Last (correct) iteration\n",
    "N_4bounds2 = [36, 35, 34, 36, 35, 37, 35, 35, 33, 35, 36, 35, 36] #Second last iteration\n",
    "N_4bounds30 = [30,29,27,29,30,30,30,30,25,30,30,30,30]"
   ]
  },
  {
   "cell_type": "code",
   "execution_count": 9,
   "metadata": {},
   "outputs": [
    {
     "output_type": "error",
     "ename": "IndexError",
     "evalue": "list index out of range",
     "traceback": [
      "\u001b[0;31m---------------------------------------------------------------------------\u001b[0m",
      "\u001b[0;31mIndexError\u001b[0m                                Traceback (most recent call last)",
      "\u001b[0;32m<ipython-input-9-e7f5930924fc>\u001b[0m in \u001b[0;36m<module>\u001b[0;34m\u001b[0m\n\u001b[0;32m----> 1\u001b[0;31m \u001b[0mz_sub_par\u001b[0m \u001b[0;34m=\u001b[0m \u001b[0msum\u001b[0m\u001b[0;34m(\u001b[0m\u001b[0;34m[\u001b[0m\u001b[0mmp_parallelSPs\u001b[0m\u001b[0;34m.\u001b[0m\u001b[0msp_data\u001b[0m\u001b[0;34m[\u001b[0m\u001b[0mn\u001b[0m\u001b[0;34m]\u001b[0m\u001b[0;34m.\u001b[0m\u001b[0mobj_vals\u001b[0m\u001b[0;34m[\u001b[0m\u001b[0mN_4bounds\u001b[0m\u001b[0;34m[\u001b[0m\u001b[0mn\u001b[0m\u001b[0;34m]\u001b[0m\u001b[0;34m]\u001b[0m \u001b[0;32mfor\u001b[0m \u001b[0mn\u001b[0m \u001b[0;32min\u001b[0m \u001b[0mmp_parallelSPs\u001b[0m\u001b[0;34m.\u001b[0m\u001b[0mdata\u001b[0m\u001b[0;34m.\u001b[0m\u001b[0mN\u001b[0m\u001b[0;34m]\u001b[0m\u001b[0;34m)\u001b[0m\u001b[0;34m\u001b[0m\u001b[0;34m\u001b[0m\u001b[0m\n\u001b[0m\u001b[1;32m      2\u001b[0m \u001b[0mphi_sum_par\u001b[0m \u001b[0;34m=\u001b[0m \u001b[0msum\u001b[0m\u001b[0;34m(\u001b[0m\u001b[0mpd\u001b[0m\u001b[0;34m.\u001b[0m\u001b[0mDataFrame\u001b[0m\u001b[0;34m(\u001b[0m\u001b[0mdata\u001b[0m\u001b[0;34m=\u001b[0m \u001b[0mmp_parallelSPs\u001b[0m\u001b[0;34m.\u001b[0m\u001b[0mdata\u001b[0m\u001b[0;34m.\u001b[0m\u001b[0mphis\u001b[0m\u001b[0;34m)\u001b[0m\u001b[0;34m.\u001b[0m\u001b[0miloc\u001b[0m\u001b[0;34m[\u001b[0m\u001b[0;34m:\u001b[0m\u001b[0;34m,\u001b[0m\u001b[0;34m-\u001b[0m\u001b[0;36m1\u001b[0m\u001b[0;34m]\u001b[0m\u001b[0;34m)\u001b[0m\u001b[0;34m\u001b[0m\u001b[0;34m\u001b[0m\u001b[0m\n",
      "\u001b[0;32m<ipython-input-9-e7f5930924fc>\u001b[0m in \u001b[0;36m<listcomp>\u001b[0;34m(.0)\u001b[0m\n\u001b[0;32m----> 1\u001b[0;31m \u001b[0mz_sub_par\u001b[0m \u001b[0;34m=\u001b[0m \u001b[0msum\u001b[0m\u001b[0;34m(\u001b[0m\u001b[0;34m[\u001b[0m\u001b[0mmp_parallelSPs\u001b[0m\u001b[0;34m.\u001b[0m\u001b[0msp_data\u001b[0m\u001b[0;34m[\u001b[0m\u001b[0mn\u001b[0m\u001b[0;34m]\u001b[0m\u001b[0;34m.\u001b[0m\u001b[0mobj_vals\u001b[0m\u001b[0;34m[\u001b[0m\u001b[0mN_4bounds\u001b[0m\u001b[0;34m[\u001b[0m\u001b[0mn\u001b[0m\u001b[0;34m]\u001b[0m\u001b[0;34m]\u001b[0m \u001b[0;32mfor\u001b[0m \u001b[0mn\u001b[0m \u001b[0;32min\u001b[0m \u001b[0mmp_parallelSPs\u001b[0m\u001b[0;34m.\u001b[0m\u001b[0mdata\u001b[0m\u001b[0;34m.\u001b[0m\u001b[0mN\u001b[0m\u001b[0;34m]\u001b[0m\u001b[0;34m)\u001b[0m\u001b[0;34m\u001b[0m\u001b[0;34m\u001b[0m\u001b[0m\n\u001b[0m\u001b[1;32m      2\u001b[0m \u001b[0mphi_sum_par\u001b[0m \u001b[0;34m=\u001b[0m \u001b[0msum\u001b[0m\u001b[0;34m(\u001b[0m\u001b[0mpd\u001b[0m\u001b[0;34m.\u001b[0m\u001b[0mDataFrame\u001b[0m\u001b[0;34m(\u001b[0m\u001b[0mdata\u001b[0m\u001b[0;34m=\u001b[0m \u001b[0mmp_parallelSPs\u001b[0m\u001b[0;34m.\u001b[0m\u001b[0mdata\u001b[0m\u001b[0;34m.\u001b[0m\u001b[0mphis\u001b[0m\u001b[0;34m)\u001b[0m\u001b[0;34m.\u001b[0m\u001b[0miloc\u001b[0m\u001b[0;34m[\u001b[0m\u001b[0;34m:\u001b[0m\u001b[0;34m,\u001b[0m\u001b[0;34m-\u001b[0m\u001b[0;36m1\u001b[0m\u001b[0;34m]\u001b[0m\u001b[0;34m)\u001b[0m\u001b[0;34m\u001b[0m\u001b[0;34m\u001b[0m\u001b[0m\n",
      "\u001b[0;31mIndexError\u001b[0m: list index out of range"
     ]
    }
   ],
   "source": [
    "z_sub_par = sum([mp_parallelSPs.sp_data[n].obj_vals[N_4bounds[n]] for n in mp_parallelSPs.data.N])\n",
    "phi_sum_par = sum(pd.DataFrame(data= mp_parallelSPs.data.phis).iloc[:,-1])"
   ]
  },
  {
   "cell_type": "code",
   "execution_count": 10,
   "metadata": {},
   "outputs": [
    {
     "output_type": "stream",
     "name": "stdout",
     "text": [
      "Difference in UB: 3924 - 3927 = -3\nDifference in Z obj. vals.: -5)\nDifference in phis: 2\n"
     ]
    }
   ],
   "source": [
    "print('Difference in UB: 3924 - 3927 = -3')\n",
    "print(f'Difference in Z obj. vals.: {int((z_sub_2opt-z_sub_par)*1e-6)})')\n",
    "print(f'Difference in phis: {int((phi_sum_2opt-phi_sum_par)*1e-6)}')"
   ]
  },
  {
   "cell_type": "code",
   "execution_count": 31,
   "metadata": {},
   "outputs": [
    {
     "output_type": "stream",
     "name": "stdout",
     "text": [
      "[54167, 18683, 28889, 16239, 23343, 33937, 9152, 31189, 42449, 21368, 10985, 26404, 12468]\n[55112, 18683, 28889, 16548, 23343, 34371, 9152, 31189, 42449, 21368, 11197, 27984, 12676]\n"
     ]
    }
   ],
   "source": [
    "zOpt = [int(mp_2opt.subproblems[n].data.obj_vals[31]*1e-4) for n in mp_2opt.data.N]\n",
    "zSub = [int(mp_parallelSPs.sp_data[n].obj_vals[N_4bounds30[n]]*1e-4) for n in mp_parallelSPs.data.N]\n",
    "print(zOpt)\n",
    "print(zSub)"
   ]
  },
  {
   "source": [
    "# Nodes with different objective value:\n",
    "## 1, 4, 5,\n",
    "## Objective value fetched from iteration:\n",
    "## 32, 34, 36\n",
    "## But is correct in iteration:\n",
    "## 34, 32, 35\n"
   ],
   "cell_type": "markdown",
   "metadata": {}
  },
  {
   "cell_type": "code",
   "execution_count": null,
   "metadata": {},
   "outputs": [],
   "source": []
  },
  {
   "cell_type": "code",
   "execution_count": 13,
   "metadata": {},
   "outputs": [
    {
     "output_type": "stream",
     "name": "stdout",
     "text": [
      "[184711545.19999933, 186833020.22666574, 185894251.29599932, 193859778.52799943, 188909797.59946635, 190057966.73066592]\n[233430744.55054536, 230234665.2312121, 229929987.18654573, 232153007.71787858, 228827865.25654528, 233812380.99187848]\n[343718493.9276764, 339744911.6223427, 339376022.634343, 342690448.8663431, 347793091.2196528, 341166646.21194357, 337545064.6743433, 345063029.37967676]\n"
     ]
    }
   ],
   "source": [
    "print(mp_parallelSPs.sp_data[1].obj_vals[30:40])\n",
    "print(mp_parallelSPs.sp_data[4].obj_vals[30:40])\n",
    "print(mp_parallelSPs.sp_data[5].obj_vals[30:40])"
   ]
  },
  {
   "cell_type": "code",
   "execution_count": 62,
   "metadata": {},
   "outputs": [
    {
     "output_type": "stream",
     "name": "stdout",
     "text": [
      "[54342, 18890, 28732, 16202, 22874, 33754, 9119, 32240, 42276, 21363, 10983, 27472, 12441]\n[54342, 18589, 28732, 16202, 22882, 33754, 9119, 32240, 42276, 21363, 10983, 27472, 12441]\n"
     ]
    }
   ],
   "source": [
    "phiOpt = pd.DataFrame(data=mp_2opt.data.phis).iloc[:,-1].apply(lambda x: int(x*1e-4)).tolist()\n",
    "phiPar = pd.DataFrame(data=mp_parallelSPs.data.phis).iloc[:,-1].apply(lambda x: int(x*1e-4)).tolist()\n",
    "print(phiOpt)\n",
    "print(phiPar)"
   ]
  },
  {
   "cell_type": "code",
   "execution_count": 77,
   "metadata": {},
   "outputs": [
    {
     "output_type": "execute_result",
     "data": {
      "text/plain": [
       "    26   27   28   29   30   31   32   33   34   35\n",
       "0  2.0  2.0  2.0  3.0  2.0  2.0  2.0  2.0  2.0  2.0"
      ],
      "text/html": "<div>\n<style scoped>\n    .dataframe tbody tr th:only-of-type {\n        vertical-align: middle;\n    }\n\n    .dataframe tbody tr th {\n        vertical-align: top;\n    }\n\n    .dataframe thead th {\n        text-align: right;\n    }\n</style>\n<table border=\"1\" class=\"dataframe\">\n  <thead>\n    <tr style=\"text-align: right;\">\n      <th></th>\n      <th>26</th>\n      <th>27</th>\n      <th>28</th>\n      <th>29</th>\n      <th>30</th>\n      <th>31</th>\n      <th>32</th>\n      <th>33</th>\n      <th>34</th>\n      <th>35</th>\n    </tr>\n  </thead>\n  <tbody>\n    <tr>\n      <th>0</th>\n      <td>2.0</td>\n      <td>2.0</td>\n      <td>2.0</td>\n      <td>3.0</td>\n      <td>2.0</td>\n      <td>2.0</td>\n      <td>2.0</td>\n      <td>2.0</td>\n      <td>2.0</td>\n      <td>2.0</td>\n    </tr>\n  </tbody>\n</table>\n</div>"
     },
     "metadata": {},
     "execution_count": 77
    }
   ],
   "source": [
    "pd.DataFrame(data = mp_2opt.data.vessels.values()).iloc[0:1,-10:]"
   ]
  },
  {
   "cell_type": "code",
   "execution_count": 76,
   "metadata": {},
   "outputs": [
    {
     "output_type": "execute_result",
     "data": {
      "text/plain": [
       "    30   31   32   33   34   35   36   37   38   39\n",
       "0  2.0  3.0  2.0  2.0  2.0  2.0  2.0  2.0  2.0  2.0"
      ],
      "text/html": "<div>\n<style scoped>\n    .dataframe tbody tr th:only-of-type {\n        vertical-align: middle;\n    }\n\n    .dataframe tbody tr th {\n        vertical-align: top;\n    }\n\n    .dataframe thead th {\n        text-align: right;\n    }\n</style>\n<table border=\"1\" class=\"dataframe\">\n  <thead>\n    <tr style=\"text-align: right;\">\n      <th></th>\n      <th>30</th>\n      <th>31</th>\n      <th>32</th>\n      <th>33</th>\n      <th>34</th>\n      <th>35</th>\n      <th>36</th>\n      <th>37</th>\n      <th>38</th>\n      <th>39</th>\n    </tr>\n  </thead>\n  <tbody>\n    <tr>\n      <th>0</th>\n      <td>2.0</td>\n      <td>3.0</td>\n      <td>2.0</td>\n      <td>2.0</td>\n      <td>2.0</td>\n      <td>2.0</td>\n      <td>2.0</td>\n      <td>2.0</td>\n      <td>2.0</td>\n      <td>2.0</td>\n    </tr>\n  </tbody>\n</table>\n</div>"
     },
     "metadata": {},
     "execution_count": 76
    }
   ],
   "source": [
    "pd.DataFrame(data = mp_parallelSPs.data.vessels.values()).iloc[0:1,30:40]"
   ]
  },
  {
   "cell_type": "code",
   "execution_count": 29,
   "metadata": {},
   "outputs": [
    {
     "output_type": "execute_result",
     "data": {
      "text/plain": [
       "2.9333965908002853"
      ]
     },
     "metadata": {},
     "execution_count": 29
    }
   ],
   "source": [
    "(sum(pd.DataFrame(data= mp_2opt.data.phis).iloc[:,-1])-sum(pd.DataFrame(data= mp_parallelSPs.data.phis).iloc[:,-1]))*1e-6"
   ]
  },
  {
   "cell_type": "code",
   "execution_count": 12,
   "metadata": {},
   "outputs": [
    {
     "output_type": "execute_result",
     "data": {
      "text/plain": [
       "3304025480.351555"
      ]
     },
     "metadata": {},
     "execution_count": 12
    }
   ],
   "source": [
    "sum(pd.DataFrame(data= mp_parallelSPs.data.phis).iloc[:,-1])"
   ]
  },
  {
   "cell_type": "code",
   "execution_count": 20,
   "metadata": {},
   "outputs": [
    {
     "output_type": "execute_result",
     "data": {
      "text/plain": [
       "3924246730.351554"
      ]
     },
     "metadata": {},
     "execution_count": 20
    }
   ],
   "source": [
    "mp_2opt.m.ObjVal"
   ]
  },
  {
   "cell_type": "code",
   "execution_count": 19,
   "metadata": {},
   "outputs": [
    {
     "output_type": "execute_result",
     "data": {
      "text/plain": [
       "3924246730.351555"
      ]
     },
     "metadata": {},
     "execution_count": 19
    }
   ],
   "source": [
    "mp_parallelSPs.m.ObjVal"
   ]
  },
  {
   "cell_type": "code",
   "execution_count": 33,
   "metadata": {},
   "outputs": [
    {
     "output_type": "execute_result",
     "data": {
      "text/plain": [
       "[543425925.1876539,\n",
       " 1190352572.0666666,\n",
       " 933241849.1413319,\n",
       " 731294986.7859999,\n",
       " 661830782.3771406,\n",
       " 661351864.4559053,\n",
       " 821322746.3107069,\n",
       " 588289314.8773346,\n",
       " 538528180.3199993,\n",
       " 638270279.9199995,\n",
       " 676260235.1093345,\n",
       " 577315056.6200727,\n",
       " 586897418.449333,\n",
       " 629141475.2826686,\n",
       " 558229142.9053588,\n",
       " 653534855.4106711,\n",
       " 615197456.2240013,\n",
       " 546959109.2593354,\n",
       " 599326468.216668,\n",
       " 541130415.6059207,\n",
       " 534510510.6293338,\n",
       " 551144986.7386652,\n",
       " 579987956.0453365,\n",
       " 533919417.8586673,\n",
       " 545059198.2853338,\n",
       " 546885789.1519204,\n",
       " 567501508.3642664,\n",
       " 605053507.9828559,\n",
       " 571299953.3349328,\n",
       " 530915125.55466586,\n",
       " 551126369.7194668,\n",
       " 522539305.8426661,\n",
       " 541670196.4319205,\n",
       " 575650051.4710402,\n",
       " 553190401.1167862,\n",
       " 556545944.0971323]"
      ]
     },
     "metadata": {},
     "execution_count": 33
    }
   ],
   "source": [
    "mp_parallelSPs.sp_data[0].obj_vals"
   ]
  },
  {
   "cell_type": "code",
   "execution_count": 30,
   "metadata": {},
   "outputs": [
    {
     "output_type": "execute_result",
     "data": {
      "text/plain": [
       "[543425925.1876539,\n",
       " 1190352572.0666666,\n",
       " 933241849.1413319,\n",
       " 731294986.7859999,\n",
       " 661830782.3771406,\n",
       " 661351864.4559053,\n",
       " 821322746.3107069,\n",
       " 588289314.8773346,\n",
       " 538528180.3199993,\n",
       " 638270279.9199995,\n",
       " 676260235.1093345,\n",
       " 577315056.6200727,\n",
       " 586897418.449333,\n",
       " 629141475.2826686,\n",
       " 558229142.9053588,\n",
       " 653534855.4106711,\n",
       " 615197456.2240013,\n",
       " 546959109.2593354,\n",
       " 599326468.216668,\n",
       " 541130415.6059207,\n",
       " 534510510.6293338,\n",
       " 551144986.7386652,\n",
       " 579987956.0453365,\n",
       " 533919417.8586673,\n",
       " 545059198.2853338,\n",
       " 546885789.1519204,\n",
       " 567501508.3642664,\n",
       " 605053507.9828559,\n",
       " 571299953.3349328,\n",
       " 530915125.55466586,\n",
       " 551126369.7194668,\n",
       " 522539305.8426661,\n",
       " 541670196.4319205,\n",
       " 543425925.187654,\n",
       " 552498669.9076548,\n",
       " 593204058.5851858,\n",
       " 543425925.1876539]"
      ]
     },
     "metadata": {},
     "execution_count": 30
    }
   ],
   "source": [
    "mp_2opt.subproblems[0].data.obj_vals"
   ]
  },
  {
   "cell_type": "code",
   "execution_count": null,
   "metadata": {},
   "outputs": [],
   "source": []
  }
 ]
}