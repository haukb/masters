{
 "metadata": {
  "language_info": {
   "codemirror_mode": {
    "name": "ipython",
    "version": 3
   },
   "file_extension": ".py",
   "mimetype": "text/x-python",
   "name": "python",
   "nbconvert_exporter": "python",
   "pygments_lexer": "ipython3",
   "version": "3.8.6-final"
  },
  "orig_nbformat": 2,
  "kernelspec": {
   "name": "python386jvsc74a57bd0ef12830c393e1d640fb0d118ab975122ea7ddffb897e2243067e3fc43789771e",
   "display_name": "Python 3.8.6 64-bit ('3.8.6')"
  },
  "metadata": {
   "interpreter": {
    "hash": "ef12830c393e1d640fb0d118ab975122ea7ddffb897e2243067e3fc43789771e"
   }
  }
 },
 "nbformat": 4,
 "nbformat_minor": 2,
 "cells": [
  {
   "cell_type": "code",
   "execution_count": 1,
   "metadata": {},
   "outputs": [],
   "source": [
    "from time import time\n",
    "import numpy as np\n",
    "from itertools import product\n",
    "import pandas as pd\n",
    "\n",
    "import gurobipy as gp\n",
    "from gurobipy import GRB\n",
    "\n",
    "os.chdir('/Users/haukbjornland/Documents/Skole/BSB/masters')\n",
    "from utils.master_problem_template import Master_problem\n",
    "from subproblems.subproblem import Subproblem\n",
    "from algorithms.mp_2optimality import MP_2opt\n",
    "from algorithms.mp_branch_and_cut import MP_BBC\n",
    "from algorithms.mp_parallel_subproblems import MP_parallelSPs\n",
    "from utils.full_problem import Full_problem"
   ]
  },
  {
   "cell_type": "code",
   "execution_count": 2,
   "metadata": {
    "tags": []
   },
   "outputs": [
    {
     "output_type": "stream",
     "name": "stdout",
     "text": [
      "Using license file /Users/haukbjornland/gurobi.lic\n",
      "Academic license - for non-commercial use only\n",
      "Changed value of parameter LazyConstraints to 1\n",
      "   Prev: 0  Min: 0  Max: 1  Default: 0\n",
      "2021-05-08 14:16:40,025\tINFO services.py:1172 -- View the Ray dashboard at \u001b[1m\u001b[32mhttp://127.0.0.1:8265\u001b[39m\u001b[22m\n",
      "\u001b[2m\u001b[36m(pid=2646)\u001b[0m Using license file /Users/haukbjornland/gurobi.lic\n",
      "\u001b[2m\u001b[36m(pid=2646)\u001b[0m Academic license - for non-commercial use only\n",
      "\u001b[2m\u001b[36m(pid=2652)\u001b[0m Using license file /Users/haukbjornland/gurobi.lic\n",
      "\u001b[2m\u001b[36m(pid=2652)\u001b[0m Academic license - for non-commercial use only\n",
      "\u001b[2m\u001b[36m(pid=2643)\u001b[0m Using license file /Users/haukbjornland/gurobi.lic\n",
      "\u001b[2m\u001b[36m(pid=2643)\u001b[0m Academic license - for non-commercial use only\n",
      "\u001b[2m\u001b[36m(pid=2641)\u001b[0m Using license file /Users/haukbjornland/gurobi.lic\n",
      "\u001b[2m\u001b[36m(pid=2641)\u001b[0m Academic license - for non-commercial use only\n",
      "\u001b[2m\u001b[36m(pid=2650)\u001b[0m Using license file /Users/haukbjornland/gurobi.lic\n",
      "\u001b[2m\u001b[36m(pid=2650)\u001b[0m Academic license - for non-commercial use only\n",
      "\u001b[2m\u001b[36m(pid=2648)\u001b[0m Using license file /Users/haukbjornland/gurobi.lic\n",
      "\u001b[2m\u001b[36m(pid=2648)\u001b[0m Academic license - for non-commercial use only\n",
      "\u001b[2m\u001b[36m(pid=2642)\u001b[0m Using license file /Users/haukbjornland/gurobi.lic\n",
      "\u001b[2m\u001b[36m(pid=2642)\u001b[0m Academic license - for non-commercial use only\n",
      "\u001b[2m\u001b[36m(pid=2647)\u001b[0m Using license file /Users/haukbjornland/gurobi.lic\n",
      "\u001b[2m\u001b[36m(pid=2647)\u001b[0m Academic license - for non-commercial use only\n",
      "\u001b[2m\u001b[36m(pid=2645)\u001b[0m Using license file /Users/haukbjornland/gurobi.lic\n",
      "\u001b[2m\u001b[36m(pid=2645)\u001b[0m Academic license - for non-commercial use only\n",
      "\u001b[2m\u001b[36m(pid=2644)\u001b[0m Using license file /Users/haukbjornland/gurobi.lic\n",
      "\u001b[2m\u001b[36m(pid=2651)\u001b[0m Using license file /Users/haukbjornland/gurobi.lic\n",
      "\u001b[2m\u001b[36m(pid=2644)\u001b[0m Academic license - for non-commercial use only\n",
      "\u001b[2m\u001b[36m(pid=2651)\u001b[0m Academic license - for non-commercial use only\n",
      "\u001b[2m\u001b[36m(pid=2649)\u001b[0m Using license file /Users/haukbjornland/gurobi.lic\n",
      "\u001b[2m\u001b[36m(pid=2649)\u001b[0m Academic license - for non-commercial use only\n",
      "\u001b[2m\u001b[36m(pid=2665)\u001b[0m Using license file /Users/haukbjornland/gurobi.lic\n",
      "\u001b[2m\u001b[36m(pid=2665)\u001b[0m Academic license - for non-commercial use only\n"
     ]
    }
   ],
   "source": [
    "t0 = time()\n",
    "mp_parallelSPs = MP_parallelSPs(INSTANCE='Oslo', NUM_VESSELS=1, DRAW=True, MAX_PORT_VISITS=3)\n",
    "mp_parallelSPs.solve()\n",
    "print(f'Time to solve WITH parallel SPs: {time()-t0}')"
   ]
  },
  {
   "cell_type": "code",
   "execution_count": 2,
   "metadata": {},
   "outputs": [
    {
     "output_type": "stream",
     "name": "stdout",
     "text": [
      "Using license file /Users/haukbjornland/gurobi.lic\n",
      "Academic license - for non-commercial use only\n",
      "Changed value of parameter LazyConstraints to 1\n",
      "   Prev: 0  Min: 0  Max: 1  Default: 0\n",
      "\n",
      ">>>ITERATION 1\n",
      "Time spent solving MP: 0.001\n",
      "Time spent solving SP: 0.13\n",
      "BOUNDS: UB = 1478 | LB = 959 | Gap = 54.06 %\n",
      "\n",
      ">>>ITERATION 2\n",
      "Time spent solving MP: 0.006\n",
      "Time spent solving SP: 0.074\n",
      "BOUNDS: UB = 1357 | LB = 1144 | Gap = 18.59 %\n",
      "\n",
      ">>>ITERATION 3\n",
      "Time spent solving MP: 0.025\n",
      "Time spent solving SP: 0.05\n",
      "BOUNDS: UB = 1357 | LB = 1288 | Gap = 5.33 %\n",
      "\n",
      ">>>ITERATION 4\n",
      "Time spent solving MP: 0.204\n",
      "Time spent solving SP: 0.031\n",
      "BOUNDS: UB = 1357 | LB = 1311 | Gap = 3.53 %\n",
      "\n",
      ">>>ITERATION 5\n",
      "Time spent solving MP: 0.259\n",
      "Time spent solving SP: 0.027\n",
      "BOUNDS: UB = 1357 | LB = 1312 | Gap = 3.43 %\n",
      "\n",
      ">>>ITERATION 6\n",
      "Time spent solving MP: 0.087\n",
      "Time spent solving SP: 0.034\n",
      "BOUNDS: UB = 1357 | LB = 1312 | Gap = 3.39 %\n",
      "\n",
      ">>>ITERATION 7\n",
      "Time spent solving MP: 0.087\n",
      "Time spent solving SP: 0.028\n",
      "BOUNDS: UB = 1333 | LB = 1314 | Gap = 1.43 %\n",
      "\n",
      ">>>ITERATION 8\n",
      "Time spent solving MP: 0.551\n",
      "Time spent solving SP: 0.026\n",
      "BOUNDS: UB = 1323 | LB = 1323 | Gap = -0.0 %\n",
      "**OPTIMAL SOLUTION FOUND: 1323**\n",
      "Time to solve WITHOUT parallel SPs: 7.6555399894714355\n"
     ]
    }
   ],
   "source": [
    "t0 = time()\n",
    "mp_2opt = MP_2opt(INSTANCE='Small', NUM_VESSELS=1, MAX_PORT_VISITS=1, MAX_ITERS=45)\n",
    "mp_2opt.solve()\n",
    "print(f'Time to solve WITHOUT parallel SPs: {time()-t0}')"
   ]
  },
  {
   "cell_type": "code",
   "execution_count": null,
   "metadata": {},
   "outputs": [],
   "source": []
  }
 ]
}