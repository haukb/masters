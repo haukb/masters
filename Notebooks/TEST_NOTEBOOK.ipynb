{
 "metadata": {
  "language_info": {
   "codemirror_mode": {
    "name": "ipython",
    "version": 3
   },
   "file_extension": ".py",
   "mimetype": "text/x-python",
   "name": "python",
   "nbconvert_exporter": "python",
   "pygments_lexer": "ipython3",
   "version": "3.8.6-final"
  },
  "orig_nbformat": 2,
  "kernelspec": {
   "name": "python386jvsc74a57bd0ef12830c393e1d640fb0d118ab975122ea7ddffb897e2243067e3fc43789771e",
   "display_name": "Python 3.8.6 64-bit ('3.8.6')"
  },
  "metadata": {
   "interpreter": {
    "hash": "ef12830c393e1d640fb0d118ab975122ea7ddffb897e2243067e3fc43789771e"
   }
  }
 },
 "nbformat": 4,
 "nbformat_minor": 2,
 "cells": [
  {
   "cell_type": "code",
   "execution_count": 1,
   "metadata": {},
   "outputs": [],
   "source": [
    "from time import time\n",
    "import numpy as np\n",
    "from itertools import product\n",
    "import pandas as pd\n",
    "\n",
    "import gurobipy as gp\n",
    "from gurobipy import GRB\n",
    "\n",
    "os.chdir('/Users/haukbjornland/Documents/Skole/BSB/masters')\n",
    "from utils.master_problem_template import Master_problem\n",
    "from subproblems.subproblem import Subproblem\n",
    "from algorithms.mp_2optimality import MP_2opt\n",
    "from algorithms.mp_unicut import MP_unicut\n",
    "from algorithms.mp_branch_and_cut import MP_BBC\n",
    "from algorithms.mp_parallel_subproblems import MP_parallelSPs\n",
    "from algorithms.mp_adhoc import MP_adhoc\n",
    "from utils.full_problem import Full_problem\n",
    "\n",
    "kwargs = {'INSTANCE':'Small',\n",
    "'NUM_VESSELS':1, 'MAX_ITERS':10}"
   ]
  },
  {
   "cell_type": "code",
   "execution_count": 2,
   "metadata": {
    "tags": []
   },
   "outputs": [
    {
     "output_type": "stream",
     "name": "stdout",
     "text": [
      "Using license file /Users/haukbjornland/gurobi.lic\n",
      "Academic license - for non-commercial use only\n",
      "Changed value of parameter LazyConstraints to 1\n",
      "   Prev: 0  Min: 0  Max: 1  Default: 0\n",
      "2021-05-16 14:11:32,625\tINFO services.py:1172 -- View the Ray dashboard at \u001b[1m\u001b[32mhttp://127.0.0.1:8265\u001b[39m\u001b[22m\n",
      "\u001b[2m\u001b[36m(pid=26896)\u001b[0m Using license file /Users/haukbjornland/gurobi.lic\n",
      "\u001b[2m\u001b[36m(pid=26896)\u001b[0m Academic license - for non-commercial use only\n",
      "\u001b[2m\u001b[36m(pid=26895)\u001b[0m Using license file /Users/haukbjornland/gurobi.lic\n",
      "\u001b[2m\u001b[36m(pid=26895)\u001b[0m Academic license - for non-commercial use only\n",
      "\u001b[2m\u001b[36m(pid=26893)\u001b[0m Using license file /Users/haukbjornland/gurobi.lic\n",
      "\u001b[2m\u001b[36m(pid=26893)\u001b[0m Academic license - for non-commercial use only\n",
      "\u001b[2m\u001b[36m(pid=26894)\u001b[0m Using license file /Users/haukbjornland/gurobi.lic\n",
      "\u001b[2m\u001b[36m(pid=26894)\u001b[0m Academic license - for non-commercial use only\n",
      "\u001b[2m\u001b[36m(pid=26891)\u001b[0m Using license file /Users/haukbjornland/gurobi.lic\n",
      "\u001b[2m\u001b[36m(pid=26891)\u001b[0m Academic license - for non-commercial use only\n",
      "\u001b[2m\u001b[36m(pid=26888)\u001b[0m Using license file /Users/haukbjornland/gurobi.lic\n",
      "\u001b[2m\u001b[36m(pid=26888)\u001b[0m Academic license - for non-commercial use only\n",
      "\u001b[2m\u001b[36m(pid=26892)\u001b[0m Using license file /Users/haukbjornland/gurobi.lic\n",
      "\u001b[2m\u001b[36m(pid=26892)\u001b[0m Academic license - for non-commercial use only\n",
      "\u001b[2m\u001b[36m(pid=26890)\u001b[0m Using license file /Users/haukbjornland/gurobi.lic\n",
      "\u001b[2m\u001b[36m(pid=26890)\u001b[0m Academic license - for non-commercial use only\n",
      "\u001b[2m\u001b[36m(pid=26886)\u001b[0m Using license file /Users/haukbjornland/gurobi.lic\n",
      "\u001b[2m\u001b[36m(pid=26886)\u001b[0m Academic license - for non-commercial use only\n",
      "\u001b[2m\u001b[36m(pid=26889)\u001b[0m Using license file /Users/haukbjornland/gurobi.lic\n",
      "\u001b[2m\u001b[36m(pid=26889)\u001b[0m Academic license - for non-commercial use only\n",
      "\u001b[2m\u001b[36m(pid=26885)\u001b[0m Using license file /Users/haukbjornland/gurobi.lic\n",
      "\u001b[2m\u001b[36m(pid=26885)\u001b[0m Academic license - for non-commercial use only\n",
      "\u001b[2m\u001b[36m(pid=26887)\u001b[0m Using license file /Users/haukbjornland/gurobi.lic\n",
      "\u001b[2m\u001b[36m(pid=26887)\u001b[0m Academic license - for non-commercial use only\n",
      "\u001b[2m\u001b[36m(pid=26909)\u001b[0m Using license file /Users/haukbjornland/gurobi.lic\n",
      "\u001b[2m\u001b[36m(pid=26909)\u001b[0m Academic license - for non-commercial use only\n",
      "\n",
      ">>>ITERATION 1\n",
      "Time spent solving MP: 0.098\n",
      "Time spent solving SP: 0.736\n",
      "BOUNDS: UB = 1784 | LB = 698 | Gap = 155.43 %\n",
      "\n",
      ">>>ITERATION 2\n",
      "Time spent solving MP: 0.081\n",
      "Time spent solving SP: 0.674\n",
      "BOUNDS: UB = 1784 | LB = 774 | Gap = 130.31 %\n",
      "\n",
      ">>>ITERATION 3\n",
      "Time spent solving MP: 0.092\n",
      "Time spent solving SP: 0.672\n",
      "BOUNDS: UB = 1784 | LB = 790 | Gap = 125.79 %\n",
      "\n",
      ">>>ITERATION 4\n",
      "Time spent solving MP: 0.174\n",
      "Time spent solving SP: 0.669\n",
      "BOUNDS: UB = 1784 | LB = 819 | Gap = 117.74 %\n",
      "\n",
      ">>>ITERATION 5\n",
      "Time spent solving MP: 0.174\n",
      "Time spent solving SP: 0.703\n",
      "BOUNDS: UB = 1784 | LB = 846 | Gap = 110.75 %\n",
      "\n",
      ">>>ITERATION 6\n",
      "Time spent solving MP: 0.235\n"
     ]
    },
    {
     "output_type": "error",
     "ename": "KeyboardInterrupt",
     "evalue": "",
     "traceback": [
      "\u001b[0;31m---------------------------------------------------------------------------\u001b[0m",
      "\u001b[0;31mKeyboardInterrupt\u001b[0m                         Traceback (most recent call last)",
      "\u001b[0;32m<ipython-input-2-d8b1014c79c7>\u001b[0m in \u001b[0;36m<module>\u001b[0;34m\u001b[0m\n\u001b[1;32m      3\u001b[0m 'NUM_VESSELS':1, 'MAX_ITERS':20}\n\u001b[1;32m      4\u001b[0m \u001b[0mmp_adhoc\u001b[0m \u001b[0;34m=\u001b[0m \u001b[0mMP_adhoc\u001b[0m\u001b[0;34m(\u001b[0m\u001b[0mkwargs\u001b[0m\u001b[0;34m)\u001b[0m\u001b[0;34m\u001b[0m\u001b[0;34m\u001b[0m\u001b[0m\n\u001b[0;32m----> 5\u001b[0;31m \u001b[0mmp_adhoc\u001b[0m\u001b[0;34m.\u001b[0m\u001b[0msolve\u001b[0m\u001b[0;34m(\u001b[0m\u001b[0;34m)\u001b[0m\u001b[0;34m\u001b[0m\u001b[0;34m\u001b[0m\u001b[0m\n\u001b[0m\u001b[1;32m      6\u001b[0m \u001b[0mprint\u001b[0m\u001b[0;34m(\u001b[0m\u001b[0;34mf'Time to solve WITH adhoc decomposition: {time()-t0}'\u001b[0m\u001b[0;34m)\u001b[0m\u001b[0;34m\u001b[0m\u001b[0;34m\u001b[0m\u001b[0m\n",
      "\u001b[0;32m~/Documents/Skole/BSB/masters/algorithms/mp_parallel_subproblems.py\u001b[0m in \u001b[0;36msolve\u001b[0;34m(self)\u001b[0m\n\u001b[1;32m     57\u001b[0m             \u001b[0mN_4bounds\u001b[0m \u001b[0;34m=\u001b[0m \u001b[0;34m[\u001b[0m\u001b[0mself\u001b[0m\u001b[0;34m.\u001b[0m\u001b[0miter\u001b[0m \u001b[0;32mfor\u001b[0m \u001b[0mn\u001b[0m \u001b[0;32min\u001b[0m \u001b[0mself\u001b[0m\u001b[0;34m.\u001b[0m\u001b[0mdata\u001b[0m\u001b[0;34m.\u001b[0m\u001b[0mN\u001b[0m\u001b[0;34m]\u001b[0m\u001b[0;34m\u001b[0m\u001b[0;34m\u001b[0m\u001b[0m\n\u001b[1;32m     58\u001b[0m \u001b[0;34m\u001b[0m\u001b[0m\n\u001b[0;32m---> 59\u001b[0;31m             \u001b[0;34m[\u001b[0m\u001b[0mself\u001b[0m\u001b[0;34m.\u001b[0m\u001b[0msp_refs\u001b[0m\u001b[0;34m[\u001b[0m\u001b[0mn\u001b[0m\u001b[0;34m]\u001b[0m\u001b[0;34m.\u001b[0m\u001b[0m_update_fixed_vars\u001b[0m\u001b[0;34m.\u001b[0m\u001b[0mremote\u001b[0m\u001b[0;34m(\u001b[0m\u001b[0mself\u001b[0m\u001b[0;34m.\u001b[0m\u001b[0mdata\u001b[0m\u001b[0;34m)\u001b[0m \u001b[0;32mfor\u001b[0m \u001b[0mn\u001b[0m \u001b[0;32min\u001b[0m \u001b[0mN_changed\u001b[0m\u001b[0;34m]\u001b[0m\u001b[0;34m\u001b[0m\u001b[0;34m\u001b[0m\u001b[0m\n\u001b[0m\u001b[1;32m     60\u001b[0m \u001b[0;34m\u001b[0m\u001b[0m\n\u001b[1;32m     61\u001b[0m             \u001b[0mupdated_sps\u001b[0m \u001b[0;34m=\u001b[0m \u001b[0mray\u001b[0m\u001b[0;34m.\u001b[0m\u001b[0mget\u001b[0m\u001b[0;34m(\u001b[0m\u001b[0;34m[\u001b[0m\u001b[0mself\u001b[0m\u001b[0;34m.\u001b[0m\u001b[0msp_refs\u001b[0m\u001b[0;34m[\u001b[0m\u001b[0mn\u001b[0m\u001b[0;34m]\u001b[0m\u001b[0;34m.\u001b[0m\u001b[0msolve\u001b[0m\u001b[0;34m.\u001b[0m\u001b[0mremote\u001b[0m\u001b[0;34m(\u001b[0m\u001b[0;34m)\u001b[0m \u001b[0;32mfor\u001b[0m \u001b[0mn\u001b[0m \u001b[0;32min\u001b[0m \u001b[0mN_changed\u001b[0m\u001b[0;34m]\u001b[0m\u001b[0;34m)\u001b[0m\u001b[0;34m\u001b[0m\u001b[0;34m\u001b[0m\u001b[0m\n",
      "\u001b[0;32m~/Documents/Skole/BSB/masters/algorithms/mp_parallel_subproblems.py\u001b[0m in \u001b[0;36m<listcomp>\u001b[0;34m(.0)\u001b[0m\n\u001b[1;32m     57\u001b[0m             \u001b[0mN_4bounds\u001b[0m \u001b[0;34m=\u001b[0m \u001b[0;34m[\u001b[0m\u001b[0mself\u001b[0m\u001b[0;34m.\u001b[0m\u001b[0miter\u001b[0m \u001b[0;32mfor\u001b[0m \u001b[0mn\u001b[0m \u001b[0;32min\u001b[0m \u001b[0mself\u001b[0m\u001b[0;34m.\u001b[0m\u001b[0mdata\u001b[0m\u001b[0;34m.\u001b[0m\u001b[0mN\u001b[0m\u001b[0;34m]\u001b[0m\u001b[0;34m\u001b[0m\u001b[0;34m\u001b[0m\u001b[0m\n\u001b[1;32m     58\u001b[0m \u001b[0;34m\u001b[0m\u001b[0m\n\u001b[0;32m---> 59\u001b[0;31m             \u001b[0;34m[\u001b[0m\u001b[0mself\u001b[0m\u001b[0;34m.\u001b[0m\u001b[0msp_refs\u001b[0m\u001b[0;34m[\u001b[0m\u001b[0mn\u001b[0m\u001b[0;34m]\u001b[0m\u001b[0;34m.\u001b[0m\u001b[0m_update_fixed_vars\u001b[0m\u001b[0;34m.\u001b[0m\u001b[0mremote\u001b[0m\u001b[0;34m(\u001b[0m\u001b[0mself\u001b[0m\u001b[0;34m.\u001b[0m\u001b[0mdata\u001b[0m\u001b[0;34m)\u001b[0m \u001b[0;32mfor\u001b[0m \u001b[0mn\u001b[0m \u001b[0;32min\u001b[0m \u001b[0mN_changed\u001b[0m\u001b[0;34m]\u001b[0m\u001b[0;34m\u001b[0m\u001b[0;34m\u001b[0m\u001b[0m\n\u001b[0m\u001b[1;32m     60\u001b[0m \u001b[0;34m\u001b[0m\u001b[0m\n\u001b[1;32m     61\u001b[0m             \u001b[0mupdated_sps\u001b[0m \u001b[0;34m=\u001b[0m \u001b[0mray\u001b[0m\u001b[0;34m.\u001b[0m\u001b[0mget\u001b[0m\u001b[0;34m(\u001b[0m\u001b[0;34m[\u001b[0m\u001b[0mself\u001b[0m\u001b[0;34m.\u001b[0m\u001b[0msp_refs\u001b[0m\u001b[0;34m[\u001b[0m\u001b[0mn\u001b[0m\u001b[0;34m]\u001b[0m\u001b[0;34m.\u001b[0m\u001b[0msolve\u001b[0m\u001b[0;34m.\u001b[0m\u001b[0mremote\u001b[0m\u001b[0;34m(\u001b[0m\u001b[0;34m)\u001b[0m \u001b[0;32mfor\u001b[0m \u001b[0mn\u001b[0m \u001b[0;32min\u001b[0m \u001b[0mN_changed\u001b[0m\u001b[0;34m]\u001b[0m\u001b[0;34m)\u001b[0m\u001b[0;34m\u001b[0m\u001b[0;34m\u001b[0m\u001b[0m\n",
      "\u001b[0;32m~/.pyenv/versions/3.8.6/lib/python3.8/site-packages/ray/actor.py\u001b[0m in \u001b[0;36mremote\u001b[0;34m(self, *args, **kwargs)\u001b[0m\n\u001b[1;32m    107\u001b[0m \u001b[0;34m\u001b[0m\u001b[0m\n\u001b[1;32m    108\u001b[0m     \u001b[0;32mdef\u001b[0m \u001b[0mremote\u001b[0m\u001b[0;34m(\u001b[0m\u001b[0mself\u001b[0m\u001b[0;34m,\u001b[0m \u001b[0;34m*\u001b[0m\u001b[0margs\u001b[0m\u001b[0;34m,\u001b[0m \u001b[0;34m**\u001b[0m\u001b[0mkwargs\u001b[0m\u001b[0;34m)\u001b[0m\u001b[0;34m:\u001b[0m\u001b[0;34m\u001b[0m\u001b[0;34m\u001b[0m\u001b[0m\n\u001b[0;32m--> 109\u001b[0;31m         \u001b[0;32mreturn\u001b[0m \u001b[0mself\u001b[0m\u001b[0;34m.\u001b[0m\u001b[0m_remote\u001b[0m\u001b[0;34m(\u001b[0m\u001b[0margs\u001b[0m\u001b[0;34m,\u001b[0m \u001b[0mkwargs\u001b[0m\u001b[0;34m)\u001b[0m\u001b[0;34m\u001b[0m\u001b[0;34m\u001b[0m\u001b[0m\n\u001b[0m\u001b[1;32m    110\u001b[0m \u001b[0;34m\u001b[0m\u001b[0m\n\u001b[1;32m    111\u001b[0m     \u001b[0;32mdef\u001b[0m \u001b[0moptions\u001b[0m\u001b[0;34m(\u001b[0m\u001b[0mself\u001b[0m\u001b[0;34m,\u001b[0m \u001b[0;34m**\u001b[0m\u001b[0moptions\u001b[0m\u001b[0;34m)\u001b[0m\u001b[0;34m:\u001b[0m\u001b[0;34m\u001b[0m\u001b[0;34m\u001b[0m\u001b[0m\n",
      "\u001b[0;32m~/.pyenv/versions/3.8.6/lib/python3.8/site-packages/ray/actor.py\u001b[0m in \u001b[0;36m_remote\u001b[0;34m(self, args, kwargs, name, num_returns)\u001b[0m\n\u001b[1;32m    148\u001b[0m             \u001b[0minvocation\u001b[0m \u001b[0;34m=\u001b[0m \u001b[0mself\u001b[0m\u001b[0;34m.\u001b[0m\u001b[0m_decorator\u001b[0m\u001b[0;34m(\u001b[0m\u001b[0minvocation\u001b[0m\u001b[0;34m)\u001b[0m\u001b[0;34m\u001b[0m\u001b[0;34m\u001b[0m\u001b[0m\n\u001b[1;32m    149\u001b[0m \u001b[0;34m\u001b[0m\u001b[0m\n\u001b[0;32m--> 150\u001b[0;31m         \u001b[0;32mreturn\u001b[0m \u001b[0minvocation\u001b[0m\u001b[0;34m(\u001b[0m\u001b[0margs\u001b[0m\u001b[0;34m,\u001b[0m \u001b[0mkwargs\u001b[0m\u001b[0;34m)\u001b[0m\u001b[0;34m\u001b[0m\u001b[0;34m\u001b[0m\u001b[0m\n\u001b[0m\u001b[1;32m    151\u001b[0m \u001b[0;34m\u001b[0m\u001b[0m\n\u001b[1;32m    152\u001b[0m     \u001b[0;32mdef\u001b[0m \u001b[0m__getstate__\u001b[0m\u001b[0;34m(\u001b[0m\u001b[0mself\u001b[0m\u001b[0;34m)\u001b[0m\u001b[0;34m:\u001b[0m\u001b[0;34m\u001b[0m\u001b[0;34m\u001b[0m\u001b[0m\n",
      "\u001b[0;32m~/.pyenv/versions/3.8.6/lib/python3.8/site-packages/ray/actor.py\u001b[0m in \u001b[0;36minvocation\u001b[0;34m(args, kwargs)\u001b[0m\n\u001b[1;32m    137\u001b[0m             \u001b[0;32mif\u001b[0m \u001b[0mactor\u001b[0m \u001b[0;32mis\u001b[0m \u001b[0;32mNone\u001b[0m\u001b[0;34m:\u001b[0m\u001b[0;34m\u001b[0m\u001b[0;34m\u001b[0m\u001b[0m\n\u001b[1;32m    138\u001b[0m                 \u001b[0;32mraise\u001b[0m \u001b[0mRuntimeError\u001b[0m\u001b[0;34m(\u001b[0m\u001b[0;34m\"Lost reference to actor\"\u001b[0m\u001b[0;34m)\u001b[0m\u001b[0;34m\u001b[0m\u001b[0;34m\u001b[0m\u001b[0m\n\u001b[0;32m--> 139\u001b[0;31m             return actor._actor_method_call(\n\u001b[0m\u001b[1;32m    140\u001b[0m                 \u001b[0mself\u001b[0m\u001b[0;34m.\u001b[0m\u001b[0m_method_name\u001b[0m\u001b[0;34m,\u001b[0m\u001b[0;34m\u001b[0m\u001b[0;34m\u001b[0m\u001b[0m\n\u001b[1;32m    141\u001b[0m                 \u001b[0margs\u001b[0m\u001b[0;34m=\u001b[0m\u001b[0margs\u001b[0m\u001b[0;34m,\u001b[0m\u001b[0;34m\u001b[0m\u001b[0;34m\u001b[0m\u001b[0m\n",
      "\u001b[0;32m~/.pyenv/versions/3.8.6/lib/python3.8/site-packages/ray/actor.py\u001b[0m in \u001b[0;36m_actor_method_call\u001b[0;34m(self, method_name, args, kwargs, name, num_returns)\u001b[0m\n\u001b[1;32m    821\u001b[0m                 \u001b[0;34m\"cannot be executed locally.\"\u001b[0m\u001b[0;34m\u001b[0m\u001b[0;34m\u001b[0m\u001b[0m\n\u001b[1;32m    822\u001b[0m \u001b[0;34m\u001b[0m\u001b[0m\n\u001b[0;32m--> 823\u001b[0;31m         object_refs = worker.core_worker.submit_actor_task(\n\u001b[0m\u001b[1;32m    824\u001b[0m             \u001b[0mself\u001b[0m\u001b[0;34m.\u001b[0m\u001b[0m_ray_actor_language\u001b[0m\u001b[0;34m,\u001b[0m \u001b[0mself\u001b[0m\u001b[0;34m.\u001b[0m\u001b[0m_ray_actor_id\u001b[0m\u001b[0;34m,\u001b[0m \u001b[0mfunction_descriptor\u001b[0m\u001b[0;34m,\u001b[0m\u001b[0;34m\u001b[0m\u001b[0;34m\u001b[0m\u001b[0m\n\u001b[1;32m    825\u001b[0m             list_args, name, num_returns, self._ray_actor_method_cpus)\n",
      "\u001b[0;32mpython/ray/_raylet.pyx\u001b[0m in \u001b[0;36mray._raylet.CoreWorker.submit_actor_task\u001b[0;34m()\u001b[0m\n",
      "\u001b[0;32mpython/ray/_raylet.pyx\u001b[0m in \u001b[0;36mray._raylet.CoreWorker.submit_actor_task\u001b[0;34m()\u001b[0m\n",
      "\u001b[0;32mpython/ray/_raylet.pyx\u001b[0m in \u001b[0;36mray._raylet.prepare_args\u001b[0;34m()\u001b[0m\n",
      "\u001b[0;32m~/.pyenv/versions/3.8.6/lib/python3.8/site-packages/ray/serialization.py\u001b[0m in \u001b[0;36mserialize\u001b[0;34m(self, value)\u001b[0m\n\u001b[1;32m    317\u001b[0m             \u001b[0;32mreturn\u001b[0m \u001b[0mRawSerializedObject\u001b[0m\u001b[0;34m(\u001b[0m\u001b[0mvalue\u001b[0m\u001b[0;34m)\u001b[0m\u001b[0;34m\u001b[0m\u001b[0;34m\u001b[0m\u001b[0m\n\u001b[1;32m    318\u001b[0m         \u001b[0;32melse\u001b[0m\u001b[0;34m:\u001b[0m\u001b[0;34m\u001b[0m\u001b[0;34m\u001b[0m\u001b[0m\n\u001b[0;32m--> 319\u001b[0;31m             \u001b[0;32mreturn\u001b[0m \u001b[0mself\u001b[0m\u001b[0;34m.\u001b[0m\u001b[0m_serialize_to_msgpack\u001b[0m\u001b[0;34m(\u001b[0m\u001b[0mvalue\u001b[0m\u001b[0;34m)\u001b[0m\u001b[0;34m\u001b[0m\u001b[0;34m\u001b[0m\u001b[0m\n\u001b[0m",
      "\u001b[0;32m~/.pyenv/versions/3.8.6/lib/python3.8/site-packages/ray/serialization.py\u001b[0m in \u001b[0;36m_serialize_to_msgpack\u001b[0;34m(self, value)\u001b[0m\n\u001b[1;32m    297\u001b[0m             \u001b[0mmetadata\u001b[0m \u001b[0;34m=\u001b[0m \u001b[0mray_constants\u001b[0m\u001b[0;34m.\u001b[0m\u001b[0mOBJECT_METADATA_TYPE_PYTHON\u001b[0m\u001b[0;34m\u001b[0m\u001b[0;34m\u001b[0m\u001b[0m\n\u001b[1;32m    298\u001b[0m             \u001b[0mpickle5_serialized_object\u001b[0m \u001b[0;34m=\u001b[0m\u001b[0;31m \u001b[0m\u001b[0;31m\\\u001b[0m\u001b[0;34m\u001b[0m\u001b[0;34m\u001b[0m\u001b[0m\n\u001b[0;32m--> 299\u001b[0;31m                 \u001b[0mself\u001b[0m\u001b[0;34m.\u001b[0m\u001b[0m_serialize_to_pickle5\u001b[0m\u001b[0;34m(\u001b[0m\u001b[0mmetadata\u001b[0m\u001b[0;34m,\u001b[0m \u001b[0mpython_objects\u001b[0m\u001b[0;34m)\u001b[0m\u001b[0;34m\u001b[0m\u001b[0;34m\u001b[0m\u001b[0m\n\u001b[0m\u001b[1;32m    300\u001b[0m         \u001b[0;32melse\u001b[0m\u001b[0;34m:\u001b[0m\u001b[0;34m\u001b[0m\u001b[0;34m\u001b[0m\u001b[0m\n\u001b[1;32m    301\u001b[0m             \u001b[0mpickle5_serialized_object\u001b[0m \u001b[0;34m=\u001b[0m \u001b[0;32mNone\u001b[0m\u001b[0;34m\u001b[0m\u001b[0;34m\u001b[0m\u001b[0m\n",
      "\u001b[0;32m~/.pyenv/versions/3.8.6/lib/python3.8/site-packages/ray/serialization.py\u001b[0m in \u001b[0;36m_serialize_to_pickle5\u001b[0;34m(self, metadata, value)\u001b[0m\n\u001b[1;32m    253\u001b[0m         \u001b[0;32mtry\u001b[0m\u001b[0;34m:\u001b[0m\u001b[0;34m\u001b[0m\u001b[0;34m\u001b[0m\u001b[0m\n\u001b[1;32m    254\u001b[0m             \u001b[0mself\u001b[0m\u001b[0;34m.\u001b[0m\u001b[0mset_in_band_serialization\u001b[0m\u001b[0;34m(\u001b[0m\u001b[0;34m)\u001b[0m\u001b[0;34m\u001b[0m\u001b[0;34m\u001b[0m\u001b[0m\n\u001b[0;32m--> 255\u001b[0;31m             inband = pickle.dumps(\n\u001b[0m\u001b[1;32m    256\u001b[0m                 value, protocol=5, buffer_callback=writer.buffer_callback)\n\u001b[1;32m    257\u001b[0m         \u001b[0;32mexcept\u001b[0m \u001b[0mException\u001b[0m \u001b[0;32mas\u001b[0m \u001b[0me\u001b[0m\u001b[0;34m:\u001b[0m\u001b[0;34m\u001b[0m\u001b[0;34m\u001b[0m\u001b[0m\n",
      "\u001b[0;32m~/.pyenv/versions/3.8.6/lib/python3.8/site-packages/ray/cloudpickle/cloudpickle_fast.py\u001b[0m in \u001b[0;36mdumps\u001b[0;34m(obj, protocol, buffer_callback)\u001b[0m\n\u001b[1;32m     71\u001b[0m                 \u001b[0mfile\u001b[0m\u001b[0;34m,\u001b[0m \u001b[0mprotocol\u001b[0m\u001b[0;34m=\u001b[0m\u001b[0mprotocol\u001b[0m\u001b[0;34m,\u001b[0m \u001b[0mbuffer_callback\u001b[0m\u001b[0;34m=\u001b[0m\u001b[0mbuffer_callback\u001b[0m\u001b[0;34m\u001b[0m\u001b[0;34m\u001b[0m\u001b[0m\n\u001b[1;32m     72\u001b[0m             )\n\u001b[0;32m---> 73\u001b[0;31m             \u001b[0mcp\u001b[0m\u001b[0;34m.\u001b[0m\u001b[0mdump\u001b[0m\u001b[0;34m(\u001b[0m\u001b[0mobj\u001b[0m\u001b[0;34m)\u001b[0m\u001b[0;34m\u001b[0m\u001b[0;34m\u001b[0m\u001b[0m\n\u001b[0m\u001b[1;32m     74\u001b[0m             \u001b[0;32mreturn\u001b[0m \u001b[0mfile\u001b[0m\u001b[0;34m.\u001b[0m\u001b[0mgetvalue\u001b[0m\u001b[0;34m(\u001b[0m\u001b[0;34m)\u001b[0m\u001b[0;34m\u001b[0m\u001b[0;34m\u001b[0m\u001b[0m\n\u001b[1;32m     75\u001b[0m \u001b[0;34m\u001b[0m\u001b[0m\n",
      "\u001b[0;32m~/.pyenv/versions/3.8.6/lib/python3.8/site-packages/ray/cloudpickle/cloudpickle_fast.py\u001b[0m in \u001b[0;36mdump\u001b[0;34m(self, obj)\u001b[0m\n\u001b[1;32m    572\u001b[0m     \u001b[0;32mdef\u001b[0m \u001b[0mdump\u001b[0m\u001b[0;34m(\u001b[0m\u001b[0mself\u001b[0m\u001b[0;34m,\u001b[0m \u001b[0mobj\u001b[0m\u001b[0;34m)\u001b[0m\u001b[0;34m:\u001b[0m\u001b[0;34m\u001b[0m\u001b[0;34m\u001b[0m\u001b[0m\n\u001b[1;32m    573\u001b[0m         \u001b[0;32mtry\u001b[0m\u001b[0;34m:\u001b[0m\u001b[0;34m\u001b[0m\u001b[0;34m\u001b[0m\u001b[0m\n\u001b[0;32m--> 574\u001b[0;31m             \u001b[0;32mreturn\u001b[0m \u001b[0mPickler\u001b[0m\u001b[0;34m.\u001b[0m\u001b[0mdump\u001b[0m\u001b[0;34m(\u001b[0m\u001b[0mself\u001b[0m\u001b[0;34m,\u001b[0m \u001b[0mobj\u001b[0m\u001b[0;34m)\u001b[0m\u001b[0;34m\u001b[0m\u001b[0;34m\u001b[0m\u001b[0m\n\u001b[0m\u001b[1;32m    575\u001b[0m         \u001b[0;32mexcept\u001b[0m \u001b[0mRuntimeError\u001b[0m \u001b[0;32mas\u001b[0m \u001b[0me\u001b[0m\u001b[0;34m:\u001b[0m\u001b[0;34m\u001b[0m\u001b[0;34m\u001b[0m\u001b[0m\n\u001b[1;32m    576\u001b[0m             \u001b[0;32mif\u001b[0m \u001b[0;34m\"recursion\"\u001b[0m \u001b[0;32min\u001b[0m \u001b[0me\u001b[0m\u001b[0;34m.\u001b[0m\u001b[0margs\u001b[0m\u001b[0;34m[\u001b[0m\u001b[0;36m0\u001b[0m\u001b[0;34m]\u001b[0m\u001b[0;34m:\u001b[0m\u001b[0;34m\u001b[0m\u001b[0;34m\u001b[0m\u001b[0m\n",
      "\u001b[0;32m~/.pyenv/versions/3.8.6/lib/python3.8/site-packages/ray/cloudpickle/cloudpickle_fast.py\u001b[0m in \u001b[0;36mreducer_override\u001b[0;34m(self, obj)\u001b[0m\n\u001b[1;32m    616\u001b[0m             \u001b[0mself\u001b[0m\u001b[0;34m.\u001b[0m\u001b[0mproto\u001b[0m \u001b[0;34m=\u001b[0m \u001b[0mint\u001b[0m\u001b[0;34m(\u001b[0m\u001b[0mprotocol\u001b[0m\u001b[0;34m)\u001b[0m\u001b[0;34m\u001b[0m\u001b[0;34m\u001b[0m\u001b[0m\n\u001b[1;32m    617\u001b[0m \u001b[0;34m\u001b[0m\u001b[0m\n\u001b[0;32m--> 618\u001b[0;31m         \u001b[0;32mdef\u001b[0m \u001b[0mreducer_override\u001b[0m\u001b[0;34m(\u001b[0m\u001b[0mself\u001b[0m\u001b[0;34m,\u001b[0m \u001b[0mobj\u001b[0m\u001b[0;34m)\u001b[0m\u001b[0;34m:\u001b[0m\u001b[0;34m\u001b[0m\u001b[0;34m\u001b[0m\u001b[0m\n\u001b[0m\u001b[1;32m    619\u001b[0m             \"\"\"Type-agnostic reducing callback for function and classes.\n\u001b[1;32m    620\u001b[0m \u001b[0;34m\u001b[0m\u001b[0m\n",
      "\u001b[0;31mKeyboardInterrupt\u001b[0m: "
     ]
    }
   ],
   "source": [
    "t0 = time()\n",
    "kwargs = {'INSTANCE':'Small',\n",
    "'NUM_VESSELS':1, 'MAX_ITERS':20}\n",
    "mp_adhoc = MP_adhoc(kwargs)\n",
    "mp_adhoc.solve()\n",
    "print(f'Time to solve WITH adhoc decomposition: {time()-t0}')"
   ]
  },
  {
   "cell_type": "code",
   "execution_count": 3,
   "metadata": {},
   "outputs": [
    {
     "output_type": "stream",
     "name": "stdout",
     "text": [
      "Time to solve commercial solver: 11.100889682769775\n"
     ]
    }
   ],
   "source": [
    "t0 = time()\n",
    "full = Full_problem(mp=mp_uni)\n",
    "full.solve()\n",
    "print(f'Time to solve commercial solver: {time()-t0}')"
   ]
  },
  {
   "cell_type": "code",
   "execution_count": 4,
   "metadata": {},
   "outputs": [
    {
     "output_type": "execute_result",
     "data": {
      "text/plain": [
       "117"
      ]
     },
     "metadata": {},
     "execution_count": 4
    }
   ],
   "source": [
    "sum([len(mp_parallelSPs.subproblems[n].data.delivery_vessel) for n in range(13)])"
   ]
  },
  {
   "cell_type": "code",
   "execution_count": 2,
   "metadata": {},
   "outputs": [
    {
     "output_type": "stream",
     "name": "stdout",
     "text": [
      "Using license file /Users/haukbjornland/gurobi.lic\n",
      "Academic license - for non-commercial use only\n",
      "Changed value of parameter LazyConstraints to 1\n",
      "   Prev: 0  Min: 0  Max: 1  Default: 0\n",
      "2021-05-16 16:08:01,144\tINFO services.py:1172 -- View the Ray dashboard at \u001b[1m\u001b[32mhttp://127.0.0.1:8265\u001b[39m\u001b[22m\n",
      "\u001b[2m\u001b[36m(pid=32821)\u001b[0m Using license file /Users/haukbjornland/gurobi.lic\n",
      "\u001b[2m\u001b[36m(pid=32826)\u001b[0m Using license file /Users/haukbjornland/gurobi.lic\n",
      "\u001b[2m\u001b[36m(pid=32821)\u001b[0m Academic license - for non-commercial use only\n",
      "\u001b[2m\u001b[36m(pid=32826)\u001b[0m Academic license - for non-commercial use only\n",
      "\u001b[2m\u001b[36m(pid=32817)\u001b[0m Using license file /Users/haukbjornland/gurobi.lic\n",
      "\u001b[2m\u001b[36m(pid=32817)\u001b[0m Academic license - for non-commercial use only\n",
      "\u001b[2m\u001b[36m(pid=32820)\u001b[0m Using license file /Users/haukbjornland/gurobi.lic\n",
      "\u001b[2m\u001b[36m(pid=32820)\u001b[0m Academic license - for non-commercial use only\n",
      "\u001b[2m\u001b[36m(pid=32825)\u001b[0m Using license file /Users/haukbjornland/gurobi.lic\n",
      "\u001b[2m\u001b[36m(pid=32825)\u001b[0m Academic license - for non-commercial use only\n",
      "\u001b[2m\u001b[36m(pid=32824)\u001b[0m Using license file /Users/haukbjornland/gurobi.lic\n",
      "\u001b[2m\u001b[36m(pid=32824)\u001b[0m Academic license - for non-commercial use only\n",
      "\u001b[2m\u001b[36m(pid=32823)\u001b[0m Using license file /Users/haukbjornland/gurobi.lic\n",
      "\u001b[2m\u001b[36m(pid=32823)\u001b[0m Academic license - for non-commercial use only\n",
      "\u001b[2m\u001b[36m(pid=32816)\u001b[0m Using license file /Users/haukbjornland/gurobi.lic\n",
      "\u001b[2m\u001b[36m(pid=32816)\u001b[0m Academic license - for non-commercial use only\n",
      "\u001b[2m\u001b[36m(pid=32822)\u001b[0m Using license file /Users/haukbjornland/gurobi.lic\n",
      "\u001b[2m\u001b[36m(pid=32822)\u001b[0m Academic license - for non-commercial use only\n",
      "\u001b[2m\u001b[36m(pid=32819)\u001b[0m Using license file /Users/haukbjornland/gurobi.lic\n",
      "\u001b[2m\u001b[36m(pid=32819)\u001b[0m Academic license - for non-commercial use only\n",
      "\u001b[2m\u001b[36m(pid=32815)\u001b[0m Using license file /Users/haukbjornland/gurobi.lic\n",
      "\u001b[2m\u001b[36m(pid=32815)\u001b[0m Academic license - for non-commercial use only\n",
      "\u001b[2m\u001b[36m(pid=32818)\u001b[0m Using license file /Users/haukbjornland/gurobi.lic\n",
      "\u001b[2m\u001b[36m(pid=32818)\u001b[0m Academic license - for non-commercial use only\n",
      "\u001b[2m\u001b[36m(pid=32839)\u001b[0m Using license file /Users/haukbjornland/gurobi.lic\n",
      "\u001b[2m\u001b[36m(pid=32839)\u001b[0m Academic license - for non-commercial use only\n",
      "\n",
      ">>>ITERATION 1\n",
      "Time spent solving MP: 0.001\n",
      "Time spent solving SP: 0.255\n",
      "BOUNDS: UB = 1478 | LB = 959 | Gap = 54.06 %\n",
      "\n",
      ">>>ITERATION 2\n",
      "Time spent solving MP: 0.008\n",
      "Time spent solving SP: 0.283\n",
      "BOUNDS: UB = 1357 | LB = 1144 | Gap = 18.59 %\n",
      "\n",
      ">>>ITERATION 3\n",
      "Time spent solving MP: 0.03\n",
      "Time spent solving SP: 0.227\n",
      "BOUNDS: UB = 1357 | LB = 1288 | Gap = 5.33 %\n",
      "\n",
      ">>>ITERATION 4\n",
      "Time spent solving MP: 0.224\n",
      "Time spent solving SP: 0.315\n",
      "BOUNDS: UB = 1357 | LB = 1311 | Gap = 3.53 %\n",
      "\n",
      ">>>ITERATION 5\n",
      "Time spent solving MP: 0.303\n",
      "Time spent solving SP: 0.234\n",
      "BOUNDS: UB = 1357 | LB = 1312 | Gap = 3.43 %\n",
      "\n",
      ">>>ITERATION 6\n",
      "Time spent solving MP: 0.111\n",
      "Time spent solving SP: 0.259\n",
      "BOUNDS: UB = 1357 | LB = 1312 | Gap = 3.39 %\n",
      "\n",
      ">>>ITERATION 7\n",
      "Time spent solving MP: 0.102\n",
      "Time spent solving SP: 0.294\n",
      "BOUNDS: UB = 1333 | LB = 1314 | Gap = 1.43 %\n",
      "\n",
      ">>>ITERATION 8\n",
      "Time spent solving MP: 0.584\n",
      "Time spent solving SP: 0.332\n",
      "BOUNDS: UB = 1323 | LB = 1323 | Gap = 0.0 %\n",
      "**OPTIMAL SOLUTION FOUND: 1323**\n",
      "Time to solve WITH parallel SPs: 12.78353214263916\n"
     ]
    }
   ],
   "source": [
    "t0 = time()\n",
    "kwargs = {'INSTANCE':'Full',\n",
    "'NUM_VESSELS':1}\n",
    "mp_parallelSPs = MP_parallelSPs(kwargs)\n",
    "mp_parallelSPs.solve()\n",
    "print(f'Time to solve WITH parallel SPs: {time()-t0}')"
   ]
  },
  {
   "cell_type": "code",
   "execution_count": 2,
   "metadata": {
    "tags": []
   },
   "outputs": [
    {
     "output_type": "stream",
     "name": "stdout",
     "text": [
      "Using license file /Users/haukbjornland/gurobi.lic\n",
      "Academic license - for non-commercial use only\n",
      "Changed value of parameter LazyConstraints to 1\n",
      "   Prev: 0  Min: 0  Max: 1  Default: 0\n",
      "2021-05-16 16:06:51,529\tINFO services.py:1172 -- View the Ray dashboard at \u001b[1m\u001b[32mhttp://127.0.0.1:8265\u001b[39m\u001b[22m\n",
      "\u001b[2m\u001b[36m(pid=32671)\u001b[0m Using license file /Users/haukbjornland/gurobi.lic\n",
      "\u001b[2m\u001b[36m(pid=32676)\u001b[0m Using license file /Users/haukbjornland/gurobi.lic\n",
      "\u001b[2m\u001b[36m(pid=32676)\u001b[0m Academic license - for non-commercial use only\n",
      "\u001b[2m\u001b[36m(pid=32670)\u001b[0m Using license file /Users/haukbjornland/gurobi.lic\n",
      "\u001b[2m\u001b[36m(pid=32671)\u001b[0m Academic license - for non-commercial use only\n",
      "\u001b[2m\u001b[36m(pid=32670)\u001b[0m Academic license - for non-commercial use only\n",
      "\u001b[2m\u001b[36m(pid=32669)\u001b[0m Using license file /Users/haukbjornland/gurobi.lic\n",
      "\u001b[2m\u001b[36m(pid=32669)\u001b[0m Academic license - for non-commercial use only\n",
      "\u001b[2m\u001b[36m(pid=32667)\u001b[0m Using license file /Users/haukbjornland/gurobi.lic\n",
      "\u001b[2m\u001b[36m(pid=32667)\u001b[0m Academic license - for non-commercial use only\n",
      "\u001b[2m\u001b[36m(pid=32673)\u001b[0m Using license file /Users/haukbjornland/gurobi.lic\n",
      "\u001b[2m\u001b[36m(pid=32673)\u001b[0m Academic license - for non-commercial use only\n",
      "\u001b[2m\u001b[36m(pid=32675)\u001b[0m Using license file /Users/haukbjornland/gurobi.lic\n",
      "\u001b[2m\u001b[36m(pid=32675)\u001b[0m Academic license - for non-commercial use only\n",
      "\u001b[2m\u001b[36m(pid=32668)\u001b[0m Using license file /Users/haukbjornland/gurobi.lic\n",
      "\u001b[2m\u001b[36m(pid=32668)\u001b[0m Academic license - for non-commercial use only\n",
      "\u001b[2m\u001b[36m(pid=32666)\u001b[0m Using license file /Users/haukbjornland/gurobi.lic\n",
      "\u001b[2m\u001b[36m(pid=32666)\u001b[0m Academic license - for non-commercial use only\n",
      "\u001b[2m\u001b[36m(pid=32677)\u001b[0m Using license file /Users/haukbjornland/gurobi.lic\n",
      "\u001b[2m\u001b[36m(pid=32677)\u001b[0m Academic license - for non-commercial use only\n",
      "\u001b[2m\u001b[36m(pid=32674)\u001b[0m Using license file /Users/haukbjornland/gurobi.lic\n",
      "\u001b[2m\u001b[36m(pid=32674)\u001b[0m Academic license - for non-commercial use only\n",
      "\u001b[2m\u001b[36m(pid=32672)\u001b[0m Using license file /Users/haukbjornland/gurobi.lic\n",
      "\u001b[2m\u001b[36m(pid=32672)\u001b[0m Academic license - for non-commercial use only\n",
      "\u001b[2m\u001b[36m(pid=32696)\u001b[0m Using license file /Users/haukbjornland/gurobi.lic\n",
      "\u001b[2m\u001b[36m(pid=32696)\u001b[0m Academic license - for non-commercial use only\n",
      "\n",
      ">>>ITERATION 1\n",
      "Time spent solving MP: 0.004\n",
      "Time spent solving SP: 0.232\n",
      "BOUNDS: UB = 1478 | LB = 959 | Gap = 54.06 %\n",
      "\n",
      ">>>ITERATION 2\n",
      "Time spent solving MP: 0.017\n",
      "Time spent solving SP: 0.245\n",
      "BOUNDS: UB = 1357 | LB = 1144 | Gap = 18.59 %\n",
      "\n",
      ">>>ITERATION 3\n",
      "Time spent solving MP: 0.03\n",
      "Time spent solving SP: 0.193\n",
      "BOUNDS: UB = 1357 | LB = 1288 | Gap = 5.33 %\n",
      "\n",
      ">>>ITERATION 4\n",
      "Time spent solving MP: 0.225\n",
      "Time spent solving SP: 0.27\n",
      "BOUNDS: UB = 1357 | LB = 1311 | Gap = 3.53 %\n",
      "\n",
      ">>>ITERATION 5\n",
      "Time spent solving MP: 0.231\n",
      "Time spent solving SP: 0.165\n",
      "BOUNDS: UB = 1357 | LB = 1312 | Gap = 3.43 %\n",
      "\n",
      ">>>ITERATION 6\n",
      "Time spent solving MP: 0.105\n",
      "Time spent solving SP: 0.18\n",
      "BOUNDS: UB = 1357 | LB = 1312 | Gap = 3.39 %\n",
      "\n",
      ">>>ITERATION 7\n",
      "Time spent solving MP: 0.086\n",
      "Time spent solving SP: 0.191\n",
      "BOUNDS: UB = 1333 | LB = 1314 | Gap = 1.43 %\n",
      "\n",
      ">>>ITERATION 8\n",
      "Time spent solving MP: 0.54\n",
      "Time spent solving SP: 0.075\n",
      "BOUNDS: UB = 1323 | LB = 1323 | Gap = 0.0 %\n",
      "**OPTIMAL SOLUTION FOUND: 1323**\n",
      "Time to solve WITH parallel SPs: 11.887457132339478\n"
     ]
    }
   ],
   "source": [
    "t0 = time()\n",
    "kwargs = {'INSTANCE':'Small',\n",
    "'NUM_VESSELS':1}\n",
    "mp_parallelSPs = MP_parallelSPs(kwargs)\n",
    "mp_parallelSPs.solve()\n",
    "print(f'Time to solve WITH parallel SPs: {time()-t0}')"
   ]
  },
  {
   "cell_type": "code",
   "execution_count": null,
   "metadata": {},
   "outputs": [],
   "source": []
  }
 ]
}