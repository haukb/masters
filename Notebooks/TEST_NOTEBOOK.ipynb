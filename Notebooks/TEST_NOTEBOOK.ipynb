{
 "metadata": {
  "language_info": {
   "codemirror_mode": {
    "name": "ipython",
    "version": 3
   },
   "file_extension": ".py",
   "mimetype": "text/x-python",
   "name": "python",
   "nbconvert_exporter": "python",
   "pygments_lexer": "ipython3",
   "version": "3.8.6-final"
  },
  "orig_nbformat": 2,
  "kernelspec": {
   "name": "python386jvsc74a57bd0ef12830c393e1d640fb0d118ab975122ea7ddffb897e2243067e3fc43789771e",
   "display_name": "Python 3.8.6 64-bit ('3.8.6')"
  },
  "metadata": {
   "interpreter": {
    "hash": "ef12830c393e1d640fb0d118ab975122ea7ddffb897e2243067e3fc43789771e"
   }
  }
 },
 "nbformat": 4,
 "nbformat_minor": 2,
 "cells": [
  {
   "cell_type": "code",
   "execution_count": 5,
   "metadata": {},
   "outputs": [],
   "source": [
    "from time import time\n",
    "import numpy as np\n",
    "from itertools import product\n",
    "import pandas as pd\n",
    "\n",
    "import gurobipy as gp\n",
    "from gurobipy import GRB\n",
    "\n",
    "os.chdir('/Users/haukbjornland/Documents/Skole/BSB/masters')\n",
    "from utils.master_problem_template import Master_problem\n",
    "from subproblems.subproblem import Subproblem\n",
    "from algorithms.mp_2optimality import MP_2opt\n",
    "from algorithms.mp_unicut import MP_unicut\n",
    "from algorithms.mp_branch_and_cut import MP_BBC\n",
    "from algorithms.mp_parallel_subproblems import MP_parallelSPs\n",
    "from algorithms.mp_adhoc import MP_adhoc\n",
    "from utils.full_problem import Full_problem\n",
    "from utils.heuristics import max_vessels_heuristic\n",
    "\n",
    "from utils.economic_analysis import run_economic_analysis\n",
    "kwargs = {'INSTANCE':'Small',\n",
    "'NUM_WEEKS':1, \n",
    "'NUM_VESSELS':3, \n",
    "'MAX_PORT_VISITS':1,\n",
    "'MAX_ITERS':50,\n",
    "'HEURISTICS':True,\n",
    "'VESSEL_CHANGES':1\n",
    "}"
   ]
  },
  {
   "cell_type": "code",
   "execution_count": 2,
   "metadata": {},
   "outputs": [],
   "source": [
    "mp = MP_adhoc(kwargs)"
   ]
  },
  {
   "cell_type": "code",
   "execution_count": 3,
   "metadata": {},
   "outputs": [
    {
     "output_type": "stream",
     "name": "stderr",
     "text": [
      "2021-05-25 11:53:24,074\tINFO services.py:1172 -- View the Ray dashboard at \u001b[1m\u001b[32mhttp://127.0.0.1:8265\u001b[39m\u001b[22m\n",
      "\n",
      ">>>ITERATION 1\n",
      "Time spent solving MP: 0.108\n",
      "Time spent solving SP: 0.205\n",
      "BOUNDS: UB = 1589 | LB = 409 | Gap = 288.28 %\n",
      "\n",
      ">>>ITERATION 2\n",
      "Time spent solving MP: 0.096\n",
      "Time spent solving SP: 0.156\n",
      "BOUNDS: UB = 1589 | LB = 501 | Gap = 217.28 %\n",
      "\n",
      ">>>ITERATION 3\n",
      "Time spent solving MP: 0.092\n",
      "Time spent solving SP: 0.17\n",
      "BOUNDS: UB = 1570 | LB = 501 | Gap = 213.31 %\n",
      "\n",
      ">>>ITERATION 4\n",
      "Time spent solving MP: 0.159\n",
      "Time spent solving SP: 0.218\n",
      "BOUNDS: UB = 1567 | LB = 511 | Gap = 206.69 %\n",
      "\n",
      ">>>ITERATION 5\n",
      "Time spent solving MP: 0.166\n",
      "Time spent solving SP: 0.197\n",
      "BOUNDS: UB = 1549 | LB = 518 | Gap = 199.01 %\n",
      "\n",
      ">>>ITERATION 6\n",
      "Time spent solving MP: 0.257\n",
      "Time spent solving SP: 0.225\n",
      "BOUNDS: UB = 1538 | LB = 520 | Gap = 195.48 %\n",
      "\n",
      ">>>ITERATION 7\n",
      "Time spent solving MP: 0.246\n",
      "Time spent solving SP: 0.226\n",
      "BOUNDS: UB = 1538 | LB = 520 | Gap = 195.43 %\n",
      "\n",
      ">>>ITERATION 8\n",
      "Time spent solving MP: 0.254\n",
      "Time spent solving SP: 0.253\n",
      "BOUNDS: UB = 1538 | LB = 520 | Gap = 195.41 %\n",
      "\n",
      ">>>ITERATION 9\n",
      "Time spent solving MP: 0.298\n",
      "Time spent solving SP: 0.258\n",
      "BOUNDS: UB = 1538 | LB = 520 | Gap = 195.4 %\n",
      "\n",
      ">>>ITERATION 10\n",
      "Time spent solving MP: 0.297\n",
      "Time spent solving SP: 0.264\n",
      "BOUNDS: UB = 1537 | LB = 521 | Gap = 194.68 %\n",
      "\n",
      ">>>ITERATION 11\n",
      "Time spent solving MP: 0.353\n",
      "Time spent solving SP: 0.288\n",
      "BOUNDS: UB = 1532 | LB = 526 | Gap = 191.09 %\n",
      "**MAX ITERATIONS REACHED 10**\n"
     ]
    }
   ],
   "source": [
    "mp.solve()"
   ]
  },
  {
   "cell_type": "code",
   "execution_count": 4,
   "metadata": {},
   "outputs": [
    {
     "output_type": "stream",
     "name": "stdout",
     "text": [
      "Time to solve WITH parallel SPs: 3.059217929840088\n"
     ]
    }
   ],
   "source": [
    "t0 = time()\n",
    "mp_parallelSPs = MP_parallelSPs(kwargs)\n",
    "#mp_parallelSPs.solve()\n",
    "print(f'Time to solve WITH parallel SPs: {time()-t0}')"
   ]
  },
  {
   "cell_type": "code",
   "execution_count": 6,
   "metadata": {},
   "outputs": [
    {
     "output_type": "execute_result",
     "data": {
      "text/plain": [
       "array([2, 1, 1])"
      ]
     },
     "metadata": {},
     "execution_count": 6
    }
   ],
   "source": [
    "max_vessels_heuristic(mp_parallelSPs)"
   ]
  },
  {
   "cell_type": "code",
   "execution_count": 4,
   "metadata": {},
   "outputs": [
    {
     "output_type": "stream",
     "name": "stdout",
     "text": [
      "8\n9\n"
     ]
    }
   ],
   "source": [
    "run_economic_analysis(mp_parallelSPs)"
   ]
  },
  {
   "cell_type": "code",
   "execution_count": 2,
   "metadata": {
    "tags": []
   },
   "outputs": [
    {
     "output_type": "stream",
     "name": "stdout",
     "text": [
      "\n",
      ">>>ITERATION 0 | warm-start\n",
      "\n",
      ">>>ITERATION 1\n",
      "Time spent solving MP: 0.003\n",
      "Time spent solving SP: 0.271\n",
      "BOUNDS: UB = 1476 | LB = 812 | Gap = 81.74 %\n",
      "\n",
      ">>>ITERATION 2\n",
      "Time spent solving MP: 0.003\n",
      "Time spent solving SP: 0.221\n",
      "BOUNDS: UB = 1144 | LB = 956 | Gap = 19.61 %\n",
      "\n",
      ">>>ITERATION 3\n",
      "Time spent solving MP: 0.008\n",
      "Time spent solving SP: 0.201\n",
      "BOUNDS: UB = 1144 | LB = 1067 | Gap = 7.17 %\n",
      "\n",
      ">>>ITERATION 4\n",
      "Time spent solving MP: 0.052\n",
      "Time spent solving SP: 0.159\n",
      "BOUNDS: UB = 1144 | LB = 1091 | Gap = 4.81 %\n",
      "\n",
      ">>>ITERATION 5\n",
      "Time spent solving MP: 0.047\n",
      "Time spent solving SP: 0.169\n",
      "BOUNDS: UB = 1144 | LB = 1091 | Gap = 4.81 %\n",
      "\n",
      ">>>ITERATION 6\n",
      "Time spent solving MP: 0.043\n",
      "Time spent solving SP: 0.162\n",
      "BOUNDS: UB = 1144 | LB = 1093 | Gap = 4.62 %\n",
      "\n",
      ">>>ITERATION 7\n",
      "Time spent solving MP: 0.046\n",
      "Time spent solving SP: 0.166\n",
      "BOUNDS: UB = 1118 | LB = 1094 | Gap = 2.16 %\n",
      "\n",
      ">>>ITERATION 8\n",
      "Time spent solving MP: 0.097\n",
      "Time spent solving SP: 0.18\n",
      "BOUNDS: UB = 1105 | LB = 1104 | Gap = 0.01 %\n",
      "**OPTIMAL SOLUTION FOUND: 1105**\n",
      "Time to solve WITHOUT parallel SPs: 8.56480097770691\n"
     ]
    }
   ],
   "source": [
    "t0 = time()\n",
    "mp_2opt = MP_2opt(kwargs)\n",
    "mp_2opt.solve()\n",
    "print(f'Time to solve WITHOUT parallel SPs: {time()-t0}')"
   ]
  },
  {
   "cell_type": "code",
   "execution_count": null,
   "metadata": {},
   "outputs": [],
   "source": []
  }
 ]
}